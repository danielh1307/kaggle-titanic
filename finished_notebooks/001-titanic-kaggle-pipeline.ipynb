{
 "cells": [
  {
   "cell_type": "code",
   "execution_count": 440,
   "metadata": {
    "collapsed": true,
    "ExecuteTime": {
     "end_time": "2023-05-27T09:24:24.694289600Z",
     "start_time": "2023-05-27T09:24:24.587109100Z"
    }
   },
   "outputs": [],
   "source": [
    "import os\n",
    "import pandas as pd\n",
    "\n",
    "from sklearn.pipeline import Pipeline\n",
    "from sklearn.model_selection import train_test_split\n",
    "from sklearn.impute import SimpleImputer\n",
    "from sklearn.preprocessing import OrdinalEncoder\n",
    "from sklearn.neighbors import KNeighborsRegressor\n",
    "from sklearn.model_selection import cross_validate\n",
    "from sklearn.model_selection import GridSearchCV\n",
    "from sklearn.tree import DecisionTreeRegressor\n",
    "from sklearn.linear_model import LogisticRegression\n",
    "from sklearn.compose import ColumnTransformer\n",
    "from sklearn.metrics import confusion_matrix\n",
    "from sklearn.metrics import precision_score, recall_score, f1_score\n",
    "from sklearn.preprocessing import FunctionTransformer\n",
    "\n",
    "import numpy as np\n",
    "import matplotlib.pyplot as plt\n",
    "import seaborn as sns\n",
    "\n",
    "from pathlib import Path"
   ]
  },
  {
   "cell_type": "markdown",
   "source": [
    "# Build a Pipeline"
   ],
   "metadata": {
    "collapsed": false
   }
  },
  {
   "cell_type": "markdown",
   "source": [
    "## Central methods to call on the data"
   ],
   "metadata": {
    "collapsed": false
   }
  },
  {
   "cell_type": "code",
   "execution_count": 441,
   "outputs": [],
   "source": [
    "def load_titanic_data():\n",
    "    return pd.read_csv(os.path.join('data', 'train.csv'))"
   ],
   "metadata": {
    "collapsed": false,
    "ExecuteTime": {
     "end_time": "2023-05-27T09:24:24.742026100Z",
     "start_time": "2023-05-27T09:24:24.603445300Z"
    }
   }
  },
  {
   "cell_type": "code",
   "execution_count": 442,
   "outputs": [],
   "source": [
    "def split_data(df):\n",
    "    stratify_by = df[\"Pclass\"]\n",
    "    titanic_train, titanic_test = train_test_split(df, test_size=0.2, stratify=stratify_by, random_state=42)\n",
    "    titanic_train_features = titanic_train.drop('Survived', axis=1)\n",
    "    titanic_train_label = titanic_train['Survived']\n",
    "    titanic_test_features = titanic_test.drop('Survived', axis=1)\n",
    "    titanic_test_label = titanic_test['Survived']\n",
    "    return titanic_train_features, titanic_train_label, titanic_test_features, titanic_test_label"
   ],
   "metadata": {
    "collapsed": false,
    "ExecuteTime": {
     "end_time": "2023-05-27T09:24:24.900701500Z",
     "start_time": "2023-05-27T09:24:24.606954800Z"
    }
   }
  },
  {
   "cell_type": "code",
   "execution_count": 443,
   "outputs": [],
   "source": [
    "titanic = load_titanic_data()\n",
    "# we call the train set just \"titanic\"\n",
    "X_train, y_train, X_test, y_test = split_data(titanic)"
   ],
   "metadata": {
    "collapsed": false,
    "ExecuteTime": {
     "end_time": "2023-05-27T09:24:24.921700900Z",
     "start_time": "2023-05-27T09:24:24.618017100Z"
    }
   }
  },
  {
   "cell_type": "code",
   "execution_count": 444,
   "outputs": [
    {
     "data": {
      "text/plain": "     PassengerId  Pclass                                               Name  \\\n820          821       1  Hays, Mrs. Charles Melville (Clara Jennings Gr...   \n439          440       2             Kvillner, Mr. Johan Henrik Johannesson   \n821          822       3                                  Lulic, Mr. Nikola   \n403          404       3                     Hakkarainen, Mr. Pekka Pietari   \n343          344       2         Sedgwick, Mr. Charles Frederick Waddington   \n514          515       3                                  Coleff, Mr. Satio   \n40            41       3     Ahlin, Mrs. Johan (Johanna Persdotter Larsson)   \n101          102       3                   Petroff, Mr. Pastcho (\"Pentcho\")   \n93            94       3                            Dean, Mr. Bertram Frank   \n81            82       3                        Sheerlinck, Mr. Jan Baptist   \n\n        Sex   Age  SibSp  Parch            Ticket     Fare Cabin Embarked  \n820  female  52.0      1      1             12749  93.5000   B69        S  \n439    male  31.0      0      0        C.A. 18723  10.5000   NaN        S  \n821    male  27.0      0      0            315098   8.6625   NaN        S  \n403    male  28.0      1      0  STON/O2. 3101279  15.8500   NaN        S  \n343    male  25.0      0      0            244361  13.0000   NaN        S  \n514    male  24.0      0      0            349209   7.4958   NaN        S  \n40   female  40.0      1      0              7546   9.4750   NaN        S  \n101    male   NaN      0      0            349215   7.8958   NaN        S  \n93     male  26.0      1      2         C.A. 2315  20.5750   NaN        S  \n81     male  29.0      0      0            345779   9.5000   NaN        S  ",
      "text/html": "<div>\n<style scoped>\n    .dataframe tbody tr th:only-of-type {\n        vertical-align: middle;\n    }\n\n    .dataframe tbody tr th {\n        vertical-align: top;\n    }\n\n    .dataframe thead th {\n        text-align: right;\n    }\n</style>\n<table border=\"1\" class=\"dataframe\">\n  <thead>\n    <tr style=\"text-align: right;\">\n      <th></th>\n      <th>PassengerId</th>\n      <th>Pclass</th>\n      <th>Name</th>\n      <th>Sex</th>\n      <th>Age</th>\n      <th>SibSp</th>\n      <th>Parch</th>\n      <th>Ticket</th>\n      <th>Fare</th>\n      <th>Cabin</th>\n      <th>Embarked</th>\n    </tr>\n  </thead>\n  <tbody>\n    <tr>\n      <th>820</th>\n      <td>821</td>\n      <td>1</td>\n      <td>Hays, Mrs. Charles Melville (Clara Jennings Gr...</td>\n      <td>female</td>\n      <td>52.0</td>\n      <td>1</td>\n      <td>1</td>\n      <td>12749</td>\n      <td>93.5000</td>\n      <td>B69</td>\n      <td>S</td>\n    </tr>\n    <tr>\n      <th>439</th>\n      <td>440</td>\n      <td>2</td>\n      <td>Kvillner, Mr. Johan Henrik Johannesson</td>\n      <td>male</td>\n      <td>31.0</td>\n      <td>0</td>\n      <td>0</td>\n      <td>C.A. 18723</td>\n      <td>10.5000</td>\n      <td>NaN</td>\n      <td>S</td>\n    </tr>\n    <tr>\n      <th>821</th>\n      <td>822</td>\n      <td>3</td>\n      <td>Lulic, Mr. Nikola</td>\n      <td>male</td>\n      <td>27.0</td>\n      <td>0</td>\n      <td>0</td>\n      <td>315098</td>\n      <td>8.6625</td>\n      <td>NaN</td>\n      <td>S</td>\n    </tr>\n    <tr>\n      <th>403</th>\n      <td>404</td>\n      <td>3</td>\n      <td>Hakkarainen, Mr. Pekka Pietari</td>\n      <td>male</td>\n      <td>28.0</td>\n      <td>1</td>\n      <td>0</td>\n      <td>STON/O2. 3101279</td>\n      <td>15.8500</td>\n      <td>NaN</td>\n      <td>S</td>\n    </tr>\n    <tr>\n      <th>343</th>\n      <td>344</td>\n      <td>2</td>\n      <td>Sedgwick, Mr. Charles Frederick Waddington</td>\n      <td>male</td>\n      <td>25.0</td>\n      <td>0</td>\n      <td>0</td>\n      <td>244361</td>\n      <td>13.0000</td>\n      <td>NaN</td>\n      <td>S</td>\n    </tr>\n    <tr>\n      <th>514</th>\n      <td>515</td>\n      <td>3</td>\n      <td>Coleff, Mr. Satio</td>\n      <td>male</td>\n      <td>24.0</td>\n      <td>0</td>\n      <td>0</td>\n      <td>349209</td>\n      <td>7.4958</td>\n      <td>NaN</td>\n      <td>S</td>\n    </tr>\n    <tr>\n      <th>40</th>\n      <td>41</td>\n      <td>3</td>\n      <td>Ahlin, Mrs. Johan (Johanna Persdotter Larsson)</td>\n      <td>female</td>\n      <td>40.0</td>\n      <td>1</td>\n      <td>0</td>\n      <td>7546</td>\n      <td>9.4750</td>\n      <td>NaN</td>\n      <td>S</td>\n    </tr>\n    <tr>\n      <th>101</th>\n      <td>102</td>\n      <td>3</td>\n      <td>Petroff, Mr. Pastcho (\"Pentcho\")</td>\n      <td>male</td>\n      <td>NaN</td>\n      <td>0</td>\n      <td>0</td>\n      <td>349215</td>\n      <td>7.8958</td>\n      <td>NaN</td>\n      <td>S</td>\n    </tr>\n    <tr>\n      <th>93</th>\n      <td>94</td>\n      <td>3</td>\n      <td>Dean, Mr. Bertram Frank</td>\n      <td>male</td>\n      <td>26.0</td>\n      <td>1</td>\n      <td>2</td>\n      <td>C.A. 2315</td>\n      <td>20.5750</td>\n      <td>NaN</td>\n      <td>S</td>\n    </tr>\n    <tr>\n      <th>81</th>\n      <td>82</td>\n      <td>3</td>\n      <td>Sheerlinck, Mr. Jan Baptist</td>\n      <td>male</td>\n      <td>29.0</td>\n      <td>0</td>\n      <td>0</td>\n      <td>345779</td>\n      <td>9.5000</td>\n      <td>NaN</td>\n      <td>S</td>\n    </tr>\n  </tbody>\n</table>\n</div>"
     },
     "execution_count": 444,
     "metadata": {},
     "output_type": "execute_result"
    }
   ],
   "source": [
    "X_train.head(10)"
   ],
   "metadata": {
    "collapsed": false,
    "ExecuteTime": {
     "end_time": "2023-05-27T09:24:24.937735600Z",
     "start_time": "2023-05-27T09:24:24.632560500Z"
    }
   }
  },
  {
   "cell_type": "markdown",
   "source": [
    "## Analyze the data"
   ],
   "metadata": {
    "collapsed": false
   }
  },
  {
   "cell_type": "code",
   "execution_count": 445,
   "outputs": [],
   "source": [
    "#TODO"
   ],
   "metadata": {
    "collapsed": false,
    "ExecuteTime": {
     "end_time": "2023-05-27T09:24:24.938701600Z",
     "start_time": "2023-05-27T09:24:24.645636800Z"
    }
   }
  },
  {
   "cell_type": "markdown",
   "source": [
    "## Preprocess the data"
   ],
   "metadata": {
    "collapsed": false
   }
  },
  {
   "cell_type": "code",
   "execution_count": 446,
   "outputs": [],
   "source": [
    "def drop_columns(df):\n",
    "    columns_to_drop = [\"PassengerId\", \"Name\", \"Ticket\", \"Cabin\"]\n",
    "    return df.drop(columns_to_drop, axis=1)"
   ],
   "metadata": {
    "collapsed": false,
    "ExecuteTime": {
     "end_time": "2023-05-27T09:24:24.957728200Z",
     "start_time": "2023-05-27T09:24:24.655226900Z"
    }
   }
  },
  {
   "cell_type": "code",
   "execution_count": 447,
   "outputs": [],
   "source": [
    "def sex_pipeline():\n",
    "    # we are going to use an OrdinalEncoder to make numerical data of the sex\n",
    "    return Pipeline([\n",
    "        (\"encode\", OrdinalEncoder())\n",
    "    ])"
   ],
   "metadata": {
    "collapsed": false,
    "ExecuteTime": {
     "end_time": "2023-05-27T09:24:24.983700700Z",
     "start_time": "2023-05-27T09:24:24.666218500Z"
    }
   }
  },
  {
   "cell_type": "code",
   "execution_count": 448,
   "outputs": [],
   "source": [
    "def age_pipeline():\n",
    "    # since there are lots of null values we are going to impute them\n",
    "    return Pipeline([\n",
    "        (\"impute\", SimpleImputer(strategy=\"median\"))\n",
    "    ])"
   ],
   "metadata": {
    "collapsed": false,
    "ExecuteTime": {
     "end_time": "2023-05-27T09:24:24.983700700Z",
     "start_time": "2023-05-27T09:24:24.676640700Z"
    }
   }
  },
  {
   "cell_type": "code",
   "execution_count": 449,
   "outputs": [],
   "source": [
    "def transform_sipsp_parch(df):\n",
    "    # from SibSp and Parch, we create a new column \"Alone\"\n",
    "    # Create a mask for the conditions\n",
    "    mask = (df[\"SibSp\"] == 0) & (df[\"Parch\"] == 0)\n",
    "\n",
    "    # Create a new column, initialized with 1\n",
    "    df.loc[:, \"Alone\"] = 1\n",
    "\n",
    "    df.loc[~mask, \"Alone\"] = 0 # set 0 where the condition is not met\n",
    "    df = df.drop([\"SibSp\", \"Parch\"], axis=1)\n",
    "    return df"
   ],
   "metadata": {
    "collapsed": false,
    "ExecuteTime": {
     "end_time": "2023-05-27T09:24:24.983700700Z",
     "start_time": "2023-05-27T09:24:24.694289600Z"
    }
   }
  },
  {
   "cell_type": "code",
   "execution_count": 450,
   "outputs": [],
   "source": [
    "def embarked_pipeline():\n",
    "    # we impute the null values with the most frequent and afterward encode it\n",
    "    return  Pipeline([\n",
    "        (\"impute\", SimpleImputer(strategy=\"most_frequent\")),\n",
    "        (\"encode\", OrdinalEncoder())\n",
    "    ])\n"
   ],
   "metadata": {
    "collapsed": false,
    "ExecuteTime": {
     "end_time": "2023-05-27T09:24:24.984732Z",
     "start_time": "2023-05-27T09:24:24.699550600Z"
    }
   }
  },
  {
   "cell_type": "code",
   "execution_count": 451,
   "outputs": [],
   "source": [
    "def fare_pipeline():\n",
    "    # we impute the null values with the median\n",
    "    return Pipeline([\n",
    "        (\"impute\", SimpleImputer(strategy=\"median\"))\n",
    "    ])"
   ],
   "metadata": {
    "collapsed": false,
    "ExecuteTime": {
     "end_time": "2023-05-27T09:24:24.984732Z",
     "start_time": "2023-05-27T09:24:24.710101600Z"
    }
   }
  },
  {
   "cell_type": "code",
   "execution_count": 452,
   "outputs": [],
   "source": [
    "def full_preprocessing(X, preprocessing_pipeline):\n",
    "    # drop the columns\n",
    "    X = drop_columns(X)\n",
    "\n",
    "    transformer = FunctionTransformer(transform_sipsp_parch)\n",
    "    X = transformer.transform(X)\n",
    "\n",
    "    return pd.DataFrame(preprocessing_pipeline.fit_transform(X), columns=preprocessing_pipeline.get_feature_names_out(), index=X.index)\n",
    "\n",
    "\n",
    "transformers = [\n",
    "    ('Sex', sex_pipeline(), ['Sex']),\n",
    "    ('Age', age_pipeline(), ['Age']),\n",
    "    ('Embarked', embarked_pipeline(), ['Embarked']),\n",
    "    ('Fare', fare_pipeline(), ['Fare'])\n",
    "]\n",
    "\n",
    "# Create the ColumnTransformer\n",
    "ct = ColumnTransformer(transformers, remainder=\"passthrough\")\n",
    "\n",
    "# Create the pipeline\n",
    "preprocessing_pipeline = Pipeline([\n",
    "    (\"preprocessor\", ct)\n",
    "])\n",
    "\n",
    "X_train = full_preprocessing(X_train, preprocessing_pipeline)"
   ],
   "metadata": {
    "collapsed": false,
    "ExecuteTime": {
     "end_time": "2023-05-27T09:24:24.985701200Z",
     "start_time": "2023-05-27T09:24:24.721911600Z"
    }
   }
  },
  {
   "cell_type": "code",
   "execution_count": 453,
   "outputs": [
    {
     "data": {
      "text/plain": "     Sex__Sex  Age__Age  Embarked__Embarked  Fare__Fare  remainder__Pclass  \\\n820       0.0      52.0                 2.0     93.5000                1.0   \n439       1.0      31.0                 2.0     10.5000                2.0   \n821       1.0      27.0                 2.0      8.6625                3.0   \n403       1.0      28.0                 2.0     15.8500                3.0   \n343       1.0      25.0                 2.0     13.0000                2.0   \n514       1.0      24.0                 2.0      7.4958                3.0   \n40        0.0      40.0                 2.0      9.4750                3.0   \n101       1.0      28.0                 2.0      7.8958                3.0   \n93        1.0      26.0                 2.0     20.5750                3.0   \n81        1.0      29.0                 2.0      9.5000                3.0   \n\n     remainder__Alone  \n820               0.0  \n439               1.0  \n821               1.0  \n403               0.0  \n343               1.0  \n514               1.0  \n40                0.0  \n101               1.0  \n93                0.0  \n81                1.0  ",
      "text/html": "<div>\n<style scoped>\n    .dataframe tbody tr th:only-of-type {\n        vertical-align: middle;\n    }\n\n    .dataframe tbody tr th {\n        vertical-align: top;\n    }\n\n    .dataframe thead th {\n        text-align: right;\n    }\n</style>\n<table border=\"1\" class=\"dataframe\">\n  <thead>\n    <tr style=\"text-align: right;\">\n      <th></th>\n      <th>Sex__Sex</th>\n      <th>Age__Age</th>\n      <th>Embarked__Embarked</th>\n      <th>Fare__Fare</th>\n      <th>remainder__Pclass</th>\n      <th>remainder__Alone</th>\n    </tr>\n  </thead>\n  <tbody>\n    <tr>\n      <th>820</th>\n      <td>0.0</td>\n      <td>52.0</td>\n      <td>2.0</td>\n      <td>93.5000</td>\n      <td>1.0</td>\n      <td>0.0</td>\n    </tr>\n    <tr>\n      <th>439</th>\n      <td>1.0</td>\n      <td>31.0</td>\n      <td>2.0</td>\n      <td>10.5000</td>\n      <td>2.0</td>\n      <td>1.0</td>\n    </tr>\n    <tr>\n      <th>821</th>\n      <td>1.0</td>\n      <td>27.0</td>\n      <td>2.0</td>\n      <td>8.6625</td>\n      <td>3.0</td>\n      <td>1.0</td>\n    </tr>\n    <tr>\n      <th>403</th>\n      <td>1.0</td>\n      <td>28.0</td>\n      <td>2.0</td>\n      <td>15.8500</td>\n      <td>3.0</td>\n      <td>0.0</td>\n    </tr>\n    <tr>\n      <th>343</th>\n      <td>1.0</td>\n      <td>25.0</td>\n      <td>2.0</td>\n      <td>13.0000</td>\n      <td>2.0</td>\n      <td>1.0</td>\n    </tr>\n    <tr>\n      <th>514</th>\n      <td>1.0</td>\n      <td>24.0</td>\n      <td>2.0</td>\n      <td>7.4958</td>\n      <td>3.0</td>\n      <td>1.0</td>\n    </tr>\n    <tr>\n      <th>40</th>\n      <td>0.0</td>\n      <td>40.0</td>\n      <td>2.0</td>\n      <td>9.4750</td>\n      <td>3.0</td>\n      <td>0.0</td>\n    </tr>\n    <tr>\n      <th>101</th>\n      <td>1.0</td>\n      <td>28.0</td>\n      <td>2.0</td>\n      <td>7.8958</td>\n      <td>3.0</td>\n      <td>1.0</td>\n    </tr>\n    <tr>\n      <th>93</th>\n      <td>1.0</td>\n      <td>26.0</td>\n      <td>2.0</td>\n      <td>20.5750</td>\n      <td>3.0</td>\n      <td>0.0</td>\n    </tr>\n    <tr>\n      <th>81</th>\n      <td>1.0</td>\n      <td>29.0</td>\n      <td>2.0</td>\n      <td>9.5000</td>\n      <td>3.0</td>\n      <td>1.0</td>\n    </tr>\n  </tbody>\n</table>\n</div>"
     },
     "execution_count": 453,
     "metadata": {},
     "output_type": "execute_result"
    }
   ],
   "source": [
    "X_train.head(10)"
   ],
   "metadata": {
    "collapsed": false,
    "ExecuteTime": {
     "end_time": "2023-05-27T09:24:24.985701200Z",
     "start_time": "2023-05-27T09:24:24.751993900Z"
    }
   }
  },
  {
   "cell_type": "code",
   "execution_count": 454,
   "outputs": [
    {
     "data": {
      "text/plain": "Sex__Sex              0\nAge__Age              0\nEmbarked__Embarked    0\nFare__Fare            0\nremainder__Pclass     0\nremainder__Alone      0\ndtype: int64"
     },
     "execution_count": 454,
     "metadata": {},
     "output_type": "execute_result"
    }
   ],
   "source": [
    "# now we have no null values any more\n",
    "X_train.isna().sum()"
   ],
   "metadata": {
    "collapsed": false,
    "ExecuteTime": {
     "end_time": "2023-05-27T09:24:24.985701200Z",
     "start_time": "2023-05-27T09:24:24.756397400Z"
    }
   }
  },
  {
   "cell_type": "markdown",
   "source": [
    "# Train the data"
   ],
   "metadata": {
    "collapsed": false
   }
  },
  {
   "cell_type": "markdown",
   "source": [
    "## KNeighborsRegressor"
   ],
   "metadata": {
    "collapsed": false
   }
  },
  {
   "cell_type": "code",
   "execution_count": 455,
   "outputs": [
    {
     "name": "stdout",
     "output_type": "stream",
     "text": [
      "The score of our model is  0.3965423280423278\n"
     ]
    }
   ],
   "source": [
    "knn_model = KNeighborsRegressor(n_neighbors=5)\n",
    "knn_model.fit(X_train, y_train)\n",
    "print(\"The score of our model is \", knn_model.score(X_train, y_train))"
   ],
   "metadata": {
    "collapsed": false,
    "ExecuteTime": {
     "end_time": "2023-05-27T09:24:24.985701200Z",
     "start_time": "2023-05-27T09:24:24.767400200Z"
    }
   }
  },
  {
   "cell_type": "code",
   "execution_count": 456,
   "outputs": [
    {
     "name": "stdout",
     "output_type": "stream",
     "text": [
      "[CV] END ......................................., score=0.056 total time=   0.0s\n",
      "[CV] END ......................................., score=0.228 total time=   0.0s\n",
      "[CV] END ......................................., score=0.182 total time=   0.0s\n",
      "[CV] END ......................................., score=0.048 total time=   0.0s\n",
      "[CV] END ......................................, score=-0.015 total time=   0.0s\n",
      "The score of our model is  0.3965423280423278\n"
     ]
    },
    {
     "name": "stderr",
     "output_type": "stream",
     "text": [
      "[Parallel(n_jobs=1)]: Using backend SequentialBackend with 1 concurrent workers.\n",
      "[Parallel(n_jobs=1)]: Done   1 out of   1 | elapsed:    0.0s remaining:    0.0s\n",
      "[Parallel(n_jobs=1)]: Done   2 out of   2 | elapsed:    0.0s remaining:    0.0s\n",
      "[Parallel(n_jobs=1)]: Done   3 out of   3 | elapsed:    0.0s remaining:    0.0s\n",
      "[Parallel(n_jobs=1)]: Done   4 out of   4 | elapsed:    0.0s remaining:    0.0s\n",
      "[Parallel(n_jobs=1)]: Done   5 out of   5 | elapsed:    0.0s finished\n"
     ]
    }
   ],
   "source": [
    "cv_results = cross_validate(knn_model, X_train, y_train, cv=5, verbose=5)\n",
    "print(\"The score of our model is \", knn_model.score(X_train, y_train))"
   ],
   "metadata": {
    "collapsed": false,
    "ExecuteTime": {
     "end_time": "2023-05-27T09:24:24.985701200Z",
     "start_time": "2023-05-27T09:24:24.783585600Z"
    }
   }
  },
  {
   "cell_type": "code",
   "execution_count": 457,
   "outputs": [
    {
     "data": {
      "text/plain": "GridSearchCV(estimator=KNeighborsRegressor(),\n             param_grid={'n_neighbors': range(1, 20)}, return_train_score=True)",
      "text/html": "<style>#sk-container-id-13 {color: black;background-color: white;}#sk-container-id-13 pre{padding: 0;}#sk-container-id-13 div.sk-toggleable {background-color: white;}#sk-container-id-13 label.sk-toggleable__label {cursor: pointer;display: block;width: 100%;margin-bottom: 0;padding: 0.3em;box-sizing: border-box;text-align: center;}#sk-container-id-13 label.sk-toggleable__label-arrow:before {content: \"▸\";float: left;margin-right: 0.25em;color: #696969;}#sk-container-id-13 label.sk-toggleable__label-arrow:hover:before {color: black;}#sk-container-id-13 div.sk-estimator:hover label.sk-toggleable__label-arrow:before {color: black;}#sk-container-id-13 div.sk-toggleable__content {max-height: 0;max-width: 0;overflow: hidden;text-align: left;background-color: #f0f8ff;}#sk-container-id-13 div.sk-toggleable__content pre {margin: 0.2em;color: black;border-radius: 0.25em;background-color: #f0f8ff;}#sk-container-id-13 input.sk-toggleable__control:checked~div.sk-toggleable__content {max-height: 200px;max-width: 100%;overflow: auto;}#sk-container-id-13 input.sk-toggleable__control:checked~label.sk-toggleable__label-arrow:before {content: \"▾\";}#sk-container-id-13 div.sk-estimator input.sk-toggleable__control:checked~label.sk-toggleable__label {background-color: #d4ebff;}#sk-container-id-13 div.sk-label input.sk-toggleable__control:checked~label.sk-toggleable__label {background-color: #d4ebff;}#sk-container-id-13 input.sk-hidden--visually {border: 0;clip: rect(1px 1px 1px 1px);clip: rect(1px, 1px, 1px, 1px);height: 1px;margin: -1px;overflow: hidden;padding: 0;position: absolute;width: 1px;}#sk-container-id-13 div.sk-estimator {font-family: monospace;background-color: #f0f8ff;border: 1px dotted black;border-radius: 0.25em;box-sizing: border-box;margin-bottom: 0.5em;}#sk-container-id-13 div.sk-estimator:hover {background-color: #d4ebff;}#sk-container-id-13 div.sk-parallel-item::after {content: \"\";width: 100%;border-bottom: 1px solid gray;flex-grow: 1;}#sk-container-id-13 div.sk-label:hover label.sk-toggleable__label {background-color: #d4ebff;}#sk-container-id-13 div.sk-serial::before {content: \"\";position: absolute;border-left: 1px solid gray;box-sizing: border-box;top: 0;bottom: 0;left: 50%;z-index: 0;}#sk-container-id-13 div.sk-serial {display: flex;flex-direction: column;align-items: center;background-color: white;padding-right: 0.2em;padding-left: 0.2em;position: relative;}#sk-container-id-13 div.sk-item {position: relative;z-index: 1;}#sk-container-id-13 div.sk-parallel {display: flex;align-items: stretch;justify-content: center;background-color: white;position: relative;}#sk-container-id-13 div.sk-item::before, #sk-container-id-13 div.sk-parallel-item::before {content: \"\";position: absolute;border-left: 1px solid gray;box-sizing: border-box;top: 0;bottom: 0;left: 50%;z-index: -1;}#sk-container-id-13 div.sk-parallel-item {display: flex;flex-direction: column;z-index: 1;position: relative;background-color: white;}#sk-container-id-13 div.sk-parallel-item:first-child::after {align-self: flex-end;width: 50%;}#sk-container-id-13 div.sk-parallel-item:last-child::after {align-self: flex-start;width: 50%;}#sk-container-id-13 div.sk-parallel-item:only-child::after {width: 0;}#sk-container-id-13 div.sk-dashed-wrapped {border: 1px dashed gray;margin: 0 0.4em 0.5em 0.4em;box-sizing: border-box;padding-bottom: 0.4em;background-color: white;}#sk-container-id-13 div.sk-label label {font-family: monospace;font-weight: bold;display: inline-block;line-height: 1.2em;}#sk-container-id-13 div.sk-label-container {text-align: center;}#sk-container-id-13 div.sk-container {/* jupyter's `normalize.less` sets `[hidden] { display: none; }` but bootstrap.min.css set `[hidden] { display: none !important; }` so we also need the `!important` here to be able to override the default hidden behavior on the sphinx rendered scikit-learn.org. See: https://github.com/scikit-learn/scikit-learn/issues/21755 */display: inline-block !important;position: relative;}#sk-container-id-13 div.sk-text-repr-fallback {display: none;}</style><div id=\"sk-container-id-13\" class=\"sk-top-container\"><div class=\"sk-text-repr-fallback\"><pre>GridSearchCV(estimator=KNeighborsRegressor(),\n             param_grid={&#x27;n_neighbors&#x27;: range(1, 20)}, return_train_score=True)</pre><b>In a Jupyter environment, please rerun this cell to show the HTML representation or trust the notebook. <br />On GitHub, the HTML representation is unable to render, please try loading this page with nbviewer.org.</b></div><div class=\"sk-container\" hidden><div class=\"sk-item sk-dashed-wrapped\"><div class=\"sk-label-container\"><div class=\"sk-label sk-toggleable\"><input class=\"sk-toggleable__control sk-hidden--visually\" id=\"sk-estimator-id-35\" type=\"checkbox\" ><label for=\"sk-estimator-id-35\" class=\"sk-toggleable__label sk-toggleable__label-arrow\">GridSearchCV</label><div class=\"sk-toggleable__content\"><pre>GridSearchCV(estimator=KNeighborsRegressor(),\n             param_grid={&#x27;n_neighbors&#x27;: range(1, 20)}, return_train_score=True)</pre></div></div></div><div class=\"sk-parallel\"><div class=\"sk-parallel-item\"><div class=\"sk-item\"><div class=\"sk-label-container\"><div class=\"sk-label sk-toggleable\"><input class=\"sk-toggleable__control sk-hidden--visually\" id=\"sk-estimator-id-36\" type=\"checkbox\" ><label for=\"sk-estimator-id-36\" class=\"sk-toggleable__label sk-toggleable__label-arrow\">estimator: KNeighborsRegressor</label><div class=\"sk-toggleable__content\"><pre>KNeighborsRegressor()</pre></div></div></div><div class=\"sk-serial\"><div class=\"sk-item\"><div class=\"sk-estimator sk-toggleable\"><input class=\"sk-toggleable__control sk-hidden--visually\" id=\"sk-estimator-id-37\" type=\"checkbox\" ><label for=\"sk-estimator-id-37\" class=\"sk-toggleable__label sk-toggleable__label-arrow\">KNeighborsRegressor</label><div class=\"sk-toggleable__content\"><pre>KNeighborsRegressor()</pre></div></div></div></div></div></div></div></div></div></div>"
     },
     "execution_count": 457,
     "metadata": {},
     "output_type": "execute_result"
    }
   ],
   "source": [
    "grid = GridSearchCV(estimator=KNeighborsRegressor(),\n",
    "                   param_grid={\"n_neighbors\": range(1, 20)},\n",
    "                   return_train_score=True)\n",
    "grid.fit(X_train, y_train)"
   ],
   "metadata": {
    "collapsed": false,
    "ExecuteTime": {
     "end_time": "2023-05-27T09:24:25.366611900Z",
     "start_time": "2023-05-27T09:24:24.813702Z"
    }
   }
  },
  {
   "cell_type": "code",
   "execution_count": 458,
   "outputs": [
    {
     "name": "stdout",
     "output_type": "stream",
     "text": [
      "Best param: {'n_neighbors': 11}, best score: 0.15360284078562964\n"
     ]
    }
   ],
   "source": [
    "print(f\"Best param: {grid.best_params_}, best score: {grid.best_score_}\")"
   ],
   "metadata": {
    "collapsed": false,
    "ExecuteTime": {
     "end_time": "2023-05-27T09:24:25.369109700Z",
     "start_time": "2023-05-27T09:24:25.367598200Z"
    }
   }
  },
  {
   "cell_type": "code",
   "execution_count": 459,
   "outputs": [
    {
     "name": "stdout",
     "output_type": "stream",
     "text": [
      "The score of our model is  0.29958568367659266\n"
     ]
    }
   ],
   "source": [
    "best_model = grid.best_estimator_\n",
    "print(\"The score of our model is \", best_model.score(X_train, y_train))"
   ],
   "metadata": {
    "collapsed": false,
    "ExecuteTime": {
     "end_time": "2023-05-27T09:24:25.386718700Z",
     "start_time": "2023-05-27T09:24:25.370110900Z"
    }
   }
  },
  {
   "cell_type": "markdown",
   "source": [
    "## DecisionTreeRegressor"
   ],
   "metadata": {
    "collapsed": false
   }
  },
  {
   "cell_type": "code",
   "execution_count": 460,
   "outputs": [
    {
     "name": "stdout",
     "output_type": "stream",
     "text": [
      "The score of our model is  0.9587472442680776\n"
     ]
    }
   ],
   "source": [
    "dtr_model = DecisionTreeRegressor()\n",
    "dtr_model.fit(X_train, y_train)\n",
    "print(\"The score of our model is \", dtr_model.score(X_train, y_train))"
   ],
   "metadata": {
    "collapsed": false,
    "ExecuteTime": {
     "end_time": "2023-05-27T09:24:25.450229900Z",
     "start_time": "2023-05-27T09:24:25.387717700Z"
    }
   }
  },
  {
   "cell_type": "markdown",
   "source": [
    "This could be a sign of overfitting!"
   ],
   "metadata": {
    "collapsed": false
   }
  },
  {
   "cell_type": "code",
   "execution_count": 461,
   "outputs": [
    {
     "name": "stdout",
     "output_type": "stream",
     "text": [
      "Best estimator:  DecisionTreeRegressor(max_depth=3)\n",
      "Score of best estimator:  0.4766314666931034\n"
     ]
    }
   ],
   "source": [
    "search_space = {\n",
    "    'max_depth': [None, 1,2,3],\n",
    "    'splitter': [\"best\", \"random\"],\n",
    "    'min_samples_split': [2,3,4]\n",
    "}   # these are possibilities how the DecisionTreeRegressor can be configured\n",
    "grid = GridSearchCV(estimator=DecisionTreeRegressor(),\n",
    "                    param_grid=search_space,\n",
    "                    return_train_score=True,\n",
    "                    )\n",
    "grid.fit(X_train, y_train)\n",
    "results = grid.cv_results_\n",
    "results = pd.DataFrame(results)\n",
    "print(\"Best estimator: \", grid.best_estimator_)\n",
    "print(\"Score of best estimator: \", grid.best_estimator_.score(X_train, y_train))"
   ],
   "metadata": {
    "collapsed": false,
    "ExecuteTime": {
     "end_time": "2023-05-27T09:24:25.865098200Z",
     "start_time": "2023-05-27T09:24:25.399252900Z"
    }
   }
  },
  {
   "cell_type": "code",
   "execution_count": 462,
   "outputs": [
    {
     "name": "stdout",
     "output_type": "stream",
     "text": [
      "The score of our model is  0.4766314666931034\n"
     ]
    }
   ],
   "source": [
    "best_model = grid.best_estimator_\n",
    "print(\"The score of our model is \", best_model.score(X_train, y_train))"
   ],
   "metadata": {
    "collapsed": false,
    "ExecuteTime": {
     "end_time": "2023-05-27T09:24:25.871351700Z",
     "start_time": "2023-05-27T09:24:25.867098100Z"
    }
   }
  },
  {
   "cell_type": "markdown",
   "source": [
    "## LogisticRegression"
   ],
   "metadata": {
    "collapsed": false
   }
  },
  {
   "cell_type": "code",
   "execution_count": 463,
   "outputs": [
    {
     "name": "stdout",
     "output_type": "stream",
     "text": [
      "The score of our model is  0.797752808988764\n"
     ]
    }
   ],
   "source": [
    "lr_model = LogisticRegression(max_iter=1000, penalty=None)\n",
    "lr_model.fit(X_train, y_train)\n",
    "print(\"The score of our model is \", lr_model.score(X_train, y_train))"
   ],
   "metadata": {
    "collapsed": false,
    "ExecuteTime": {
     "end_time": "2023-05-27T09:24:25.908813600Z",
     "start_time": "2023-05-27T09:24:25.871351700Z"
    }
   }
  },
  {
   "cell_type": "markdown",
   "source": [
    "# Test the data"
   ],
   "metadata": {
    "collapsed": false
   }
  },
  {
   "cell_type": "code",
   "execution_count": 464,
   "outputs": [
    {
     "data": {
      "text/plain": "     Sex__Sex  Age__Age  Embarked__Embarked  Fare__Fare  remainder__Pclass  \\\n132       0.0     47.00                 2.0     14.5000                3.0   \n3         0.0     35.00                 2.0     53.1000                1.0   \n270       1.0     28.75                 2.0     31.0000                1.0   \n421       1.0     21.00                 1.0      7.7333                3.0   \n154       1.0     28.75                 2.0      7.3125                3.0   \n292       1.0     36.00                 0.0     12.8750                2.0   \n304       1.0     28.75                 2.0      8.0500                3.0   \n202       1.0     34.00                 2.0      6.4958                3.0   \n810       1.0     26.00                 2.0      7.8875                3.0   \n108       1.0     38.00                 2.0      7.8958                3.0   \n\n     remainder__Alone  \n132               0.0  \n3                 0.0  \n270               1.0  \n421               1.0  \n154               1.0  \n292               1.0  \n304               1.0  \n202               1.0  \n810               1.0  \n108               1.0  ",
      "text/html": "<div>\n<style scoped>\n    .dataframe tbody tr th:only-of-type {\n        vertical-align: middle;\n    }\n\n    .dataframe tbody tr th {\n        vertical-align: top;\n    }\n\n    .dataframe thead th {\n        text-align: right;\n    }\n</style>\n<table border=\"1\" class=\"dataframe\">\n  <thead>\n    <tr style=\"text-align: right;\">\n      <th></th>\n      <th>Sex__Sex</th>\n      <th>Age__Age</th>\n      <th>Embarked__Embarked</th>\n      <th>Fare__Fare</th>\n      <th>remainder__Pclass</th>\n      <th>remainder__Alone</th>\n    </tr>\n  </thead>\n  <tbody>\n    <tr>\n      <th>132</th>\n      <td>0.0</td>\n      <td>47.00</td>\n      <td>2.0</td>\n      <td>14.5000</td>\n      <td>3.0</td>\n      <td>0.0</td>\n    </tr>\n    <tr>\n      <th>3</th>\n      <td>0.0</td>\n      <td>35.00</td>\n      <td>2.0</td>\n      <td>53.1000</td>\n      <td>1.0</td>\n      <td>0.0</td>\n    </tr>\n    <tr>\n      <th>270</th>\n      <td>1.0</td>\n      <td>28.75</td>\n      <td>2.0</td>\n      <td>31.0000</td>\n      <td>1.0</td>\n      <td>1.0</td>\n    </tr>\n    <tr>\n      <th>421</th>\n      <td>1.0</td>\n      <td>21.00</td>\n      <td>1.0</td>\n      <td>7.7333</td>\n      <td>3.0</td>\n      <td>1.0</td>\n    </tr>\n    <tr>\n      <th>154</th>\n      <td>1.0</td>\n      <td>28.75</td>\n      <td>2.0</td>\n      <td>7.3125</td>\n      <td>3.0</td>\n      <td>1.0</td>\n    </tr>\n    <tr>\n      <th>292</th>\n      <td>1.0</td>\n      <td>36.00</td>\n      <td>0.0</td>\n      <td>12.8750</td>\n      <td>2.0</td>\n      <td>1.0</td>\n    </tr>\n    <tr>\n      <th>304</th>\n      <td>1.0</td>\n      <td>28.75</td>\n      <td>2.0</td>\n      <td>8.0500</td>\n      <td>3.0</td>\n      <td>1.0</td>\n    </tr>\n    <tr>\n      <th>202</th>\n      <td>1.0</td>\n      <td>34.00</td>\n      <td>2.0</td>\n      <td>6.4958</td>\n      <td>3.0</td>\n      <td>1.0</td>\n    </tr>\n    <tr>\n      <th>810</th>\n      <td>1.0</td>\n      <td>26.00</td>\n      <td>2.0</td>\n      <td>7.8875</td>\n      <td>3.0</td>\n      <td>1.0</td>\n    </tr>\n    <tr>\n      <th>108</th>\n      <td>1.0</td>\n      <td>38.00</td>\n      <td>2.0</td>\n      <td>7.8958</td>\n      <td>3.0</td>\n      <td>1.0</td>\n    </tr>\n  </tbody>\n</table>\n</div>"
     },
     "execution_count": 464,
     "metadata": {},
     "output_type": "execute_result"
    }
   ],
   "source": [
    "# preprocess the test data\n",
    "X_test = full_preprocessing(X_test, preprocessing_pipeline)\n",
    "X_test.head(10)"
   ],
   "metadata": {
    "collapsed": false,
    "ExecuteTime": {
     "end_time": "2023-05-27T09:24:25.924196500Z",
     "start_time": "2023-05-27T09:24:25.893814100Z"
    }
   }
  },
  {
   "cell_type": "code",
   "execution_count": 465,
   "outputs": [],
   "source": [
    "final_predictions = lr_model.predict(X_test)"
   ],
   "metadata": {
    "collapsed": false,
    "ExecuteTime": {
     "end_time": "2023-05-27T09:24:25.924196500Z",
     "start_time": "2023-05-27T09:24:25.918001800Z"
    }
   }
  },
  {
   "cell_type": "markdown",
   "source": [
    "## Final Scores"
   ],
   "metadata": {
    "collapsed": false
   }
  },
  {
   "cell_type": "code",
   "execution_count": 466,
   "outputs": [
    {
     "data": {
      "text/plain": "array([[96, 21],\n       [18, 44]], dtype=int64)"
     },
     "execution_count": 466,
     "metadata": {},
     "output_type": "execute_result"
    }
   ],
   "source": [
    "cm = confusion_matrix(y_test, final_predictions)\n",
    "cm"
   ],
   "metadata": {
    "collapsed": false,
    "ExecuteTime": {
     "end_time": "2023-05-27T09:24:25.943352800Z",
     "start_time": "2023-05-27T09:24:25.921196300Z"
    }
   }
  },
  {
   "cell_type": "code",
   "execution_count": 467,
   "outputs": [
    {
     "data": {
      "text/plain": "<Figure size 600x400 with 2 Axes>",
      "image/png": "[encoded data removed]"
     },
     "metadata": {},
     "output_type": "display_data"
    }
   ],
   "source": [
    "# Define class labels\n",
    "labels = ['Class 0', 'Class 1']\n",
    "\n",
    "plt.figure(figsize=(6, 4))\n",
    "sns.heatmap(cm, annot=True, fmt=\"d\", cmap=\"Blues\", xticklabels=labels, yticklabels=labels)\n",
    "\n",
    "# Set labels, title, and ticks\n",
    "plt.xlabel(\"Predicted\")\n",
    "plt.ylabel(\"True\")\n",
    "plt.title(\"Confusion Matrix\")\n",
    "plt.xticks(ticks=np.arange(len(labels)) + 0.5, labels=labels)\n",
    "plt.yticks(ticks=np.arange(len(labels)) + 0.5, labels=labels)\n",
    "\n",
    "# Display the plot\n",
    "plt.show()"
   ],
   "metadata": {
    "collapsed": false,
    "ExecuteTime": {
     "end_time": "2023-05-27T09:24:26.103707400Z",
     "start_time": "2023-05-27T09:24:25.934352300Z"
    }
   }
  },
  {
   "cell_type": "code",
   "execution_count": 468,
   "outputs": [
    {
     "name": "stdout",
     "output_type": "stream",
     "text": [
      "The precision score is  0.676923076923077\n",
      "The recall score is  0.7096774193548387\n",
      "The f1 score is  0.6929133858267716\n"
     ]
    }
   ],
   "source": [
    "print(\"The precision score is \", precision_score(y_test, final_predictions))\n",
    "print(\"The recall score is \", recall_score(y_test, final_predictions))\n",
    "print(\"The f1 score is \", f1_score(y_test, final_predictions))"
   ],
   "metadata": {
    "collapsed": false,
    "ExecuteTime": {
     "end_time": "2023-05-27T09:24:26.110652700Z",
     "start_time": "2023-05-27T09:24:26.103707400Z"
    }
   }
  },
  {
   "cell_type": "markdown",
   "source": [
    "# Create result for Kaggle"
   ],
   "metadata": {
    "collapsed": false
   }
  },
  {
   "cell_type": "code",
   "execution_count": 469,
   "outputs": [
    {
     "data": {
      "text/plain": "   PassengerId  Pclass                                          Name     Sex  \\\n0          892       3                              Kelly, Mr. James    male   \n1          893       3              Wilkes, Mrs. James (Ellen Needs)  female   \n2          894       2                     Myles, Mr. Thomas Francis    male   \n3          895       3                              Wirz, Mr. Albert    male   \n4          896       3  Hirvonen, Mrs. Alexander (Helga E Lindqvist)  female   \n5          897       3                    Svensson, Mr. Johan Cervin    male   \n6          898       3                          Connolly, Miss. Kate  female   \n7          899       2                  Caldwell, Mr. Albert Francis    male   \n8          900       3     Abrahim, Mrs. Joseph (Sophie Halaut Easu)  female   \n9          901       3                       Davies, Mr. John Samuel    male   \n\n    Age  SibSp  Parch     Ticket     Fare Cabin Embarked  \n0  34.5      0      0     330911   7.8292   NaN        Q  \n1  47.0      1      0     363272   7.0000   NaN        S  \n2  62.0      0      0     240276   9.6875   NaN        Q  \n3  27.0      0      0     315154   8.6625   NaN        S  \n4  22.0      1      1    3101298  12.2875   NaN        S  \n5  14.0      0      0       7538   9.2250   NaN        S  \n6  30.0      0      0     330972   7.6292   NaN        Q  \n7  26.0      1      1     248738  29.0000   NaN        S  \n8  18.0      0      0       2657   7.2292   NaN        C  \n9  21.0      2      0  A/4 48871  24.1500   NaN        S  ",
      "text/html": "<div>\n<style scoped>\n    .dataframe tbody tr th:only-of-type {\n        vertical-align: middle;\n    }\n\n    .dataframe tbody tr th {\n        vertical-align: top;\n    }\n\n    .dataframe thead th {\n        text-align: right;\n    }\n</style>\n<table border=\"1\" class=\"dataframe\">\n  <thead>\n    <tr style=\"text-align: right;\">\n      <th></th>\n      <th>PassengerId</th>\n      <th>Pclass</th>\n      <th>Name</th>\n      <th>Sex</th>\n      <th>Age</th>\n      <th>SibSp</th>\n      <th>Parch</th>\n      <th>Ticket</th>\n      <th>Fare</th>\n      <th>Cabin</th>\n      <th>Embarked</th>\n    </tr>\n  </thead>\n  <tbody>\n    <tr>\n      <th>0</th>\n      <td>892</td>\n      <td>3</td>\n      <td>Kelly, Mr. James</td>\n      <td>male</td>\n      <td>34.5</td>\n      <td>0</td>\n      <td>0</td>\n      <td>330911</td>\n      <td>7.8292</td>\n      <td>NaN</td>\n      <td>Q</td>\n    </tr>\n    <tr>\n      <th>1</th>\n      <td>893</td>\n      <td>3</td>\n      <td>Wilkes, Mrs. James (Ellen Needs)</td>\n      <td>female</td>\n      <td>47.0</td>\n      <td>1</td>\n      <td>0</td>\n      <td>363272</td>\n      <td>7.0000</td>\n      <td>NaN</td>\n      <td>S</td>\n    </tr>\n    <tr>\n      <th>2</th>\n      <td>894</td>\n      <td>2</td>\n      <td>Myles, Mr. Thomas Francis</td>\n      <td>male</td>\n      <td>62.0</td>\n      <td>0</td>\n      <td>0</td>\n      <td>240276</td>\n      <td>9.6875</td>\n      <td>NaN</td>\n      <td>Q</td>\n    </tr>\n    <tr>\n      <th>3</th>\n      <td>895</td>\n      <td>3</td>\n      <td>Wirz, Mr. Albert</td>\n      <td>male</td>\n      <td>27.0</td>\n      <td>0</td>\n      <td>0</td>\n      <td>315154</td>\n      <td>8.6625</td>\n      <td>NaN</td>\n      <td>S</td>\n    </tr>\n    <tr>\n      <th>4</th>\n      <td>896</td>\n      <td>3</td>\n      <td>Hirvonen, Mrs. Alexander (Helga E Lindqvist)</td>\n      <td>female</td>\n      <td>22.0</td>\n      <td>1</td>\n      <td>1</td>\n      <td>3101298</td>\n      <td>12.2875</td>\n      <td>NaN</td>\n      <td>S</td>\n    </tr>\n    <tr>\n      <th>5</th>\n      <td>897</td>\n      <td>3</td>\n      <td>Svensson, Mr. Johan Cervin</td>\n      <td>male</td>\n      <td>14.0</td>\n      <td>0</td>\n      <td>0</td>\n      <td>7538</td>\n      <td>9.2250</td>\n      <td>NaN</td>\n      <td>S</td>\n    </tr>\n    <tr>\n      <th>6</th>\n      <td>898</td>\n      <td>3</td>\n      <td>Connolly, Miss. Kate</td>\n      <td>female</td>\n      <td>30.0</td>\n      <td>0</td>\n      <td>0</td>\n      <td>330972</td>\n      <td>7.6292</td>\n      <td>NaN</td>\n      <td>Q</td>\n    </tr>\n    <tr>\n      <th>7</th>\n      <td>899</td>\n      <td>2</td>\n      <td>Caldwell, Mr. Albert Francis</td>\n      <td>male</td>\n      <td>26.0</td>\n      <td>1</td>\n      <td>1</td>\n      <td>248738</td>\n      <td>29.0000</td>\n      <td>NaN</td>\n      <td>S</td>\n    </tr>\n    <tr>\n      <th>8</th>\n      <td>900</td>\n      <td>3</td>\n      <td>Abrahim, Mrs. Joseph (Sophie Halaut Easu)</td>\n      <td>female</td>\n      <td>18.0</td>\n      <td>0</td>\n      <td>0</td>\n      <td>2657</td>\n      <td>7.2292</td>\n      <td>NaN</td>\n      <td>C</td>\n    </tr>\n    <tr>\n      <th>9</th>\n      <td>901</td>\n      <td>3</td>\n      <td>Davies, Mr. John Samuel</td>\n      <td>male</td>\n      <td>21.0</td>\n      <td>2</td>\n      <td>0</td>\n      <td>A/4 48871</td>\n      <td>24.1500</td>\n      <td>NaN</td>\n      <td>S</td>\n    </tr>\n  </tbody>\n</table>\n</div>"
     },
     "execution_count": 469,
     "metadata": {},
     "output_type": "execute_result"
    }
   ],
   "source": [
    "def load_titanic_test_data():\n",
    "    return pd.read_csv(os.path.join('data', 'test.csv'))\n",
    "\n",
    "X_final = load_titanic_test_data()\n",
    "X_final.head(10)"
   ],
   "metadata": {
    "collapsed": false,
    "ExecuteTime": {
     "end_time": "2023-05-27T09:24:26.127113300Z",
     "start_time": "2023-05-27T09:24:26.110652700Z"
    }
   }
  },
  {
   "cell_type": "code",
   "execution_count": 470,
   "outputs": [],
   "source": [
    "# we need to save the PassengerId\n",
    "x_final_passenger_id = X_final[\"PassengerId\"]"
   ],
   "metadata": {
    "collapsed": false,
    "ExecuteTime": {
     "end_time": "2023-05-27T09:24:26.152645900Z",
     "start_time": "2023-05-27T09:24:26.127616800Z"
    }
   }
  },
  {
   "cell_type": "code",
   "execution_count": 471,
   "outputs": [
    {
     "data": {
      "text/plain": "   Sex__Sex  Age__Age  Embarked__Embarked  Fare__Fare  remainder__Pclass  \\\n0       1.0      34.5                 1.0      7.8292                3.0   \n1       0.0      47.0                 2.0      7.0000                3.0   \n2       1.0      62.0                 1.0      9.6875                2.0   \n3       1.0      27.0                 2.0      8.6625                3.0   \n4       0.0      22.0                 2.0     12.2875                3.0   \n5       1.0      14.0                 2.0      9.2250                3.0   \n6       0.0      30.0                 1.0      7.6292                3.0   \n7       1.0      26.0                 2.0     29.0000                2.0   \n8       0.0      18.0                 0.0      7.2292                3.0   \n9       1.0      21.0                 2.0     24.1500                3.0   \n\n   remainder__Alone  \n0               1.0  \n1               0.0  \n2               1.0  \n3               1.0  \n4               0.0  \n5               1.0  \n6               1.0  \n7               0.0  \n8               1.0  \n9               0.0  ",
      "text/html": "<div>\n<style scoped>\n    .dataframe tbody tr th:only-of-type {\n        vertical-align: middle;\n    }\n\n    .dataframe tbody tr th {\n        vertical-align: top;\n    }\n\n    .dataframe thead th {\n        text-align: right;\n    }\n</style>\n<table border=\"1\" class=\"dataframe\">\n  <thead>\n    <tr style=\"text-align: right;\">\n      <th></th>\n      <th>Sex__Sex</th>\n      <th>Age__Age</th>\n      <th>Embarked__Embarked</th>\n      <th>Fare__Fare</th>\n      <th>remainder__Pclass</th>\n      <th>remainder__Alone</th>\n    </tr>\n  </thead>\n  <tbody>\n    <tr>\n      <th>0</th>\n      <td>1.0</td>\n      <td>34.5</td>\n      <td>1.0</td>\n      <td>7.8292</td>\n      <td>3.0</td>\n      <td>1.0</td>\n    </tr>\n    <tr>\n      <th>1</th>\n      <td>0.0</td>\n      <td>47.0</td>\n      <td>2.0</td>\n      <td>7.0000</td>\n      <td>3.0</td>\n      <td>0.0</td>\n    </tr>\n    <tr>\n      <th>2</th>\n      <td>1.0</td>\n      <td>62.0</td>\n      <td>1.0</td>\n      <td>9.6875</td>\n      <td>2.0</td>\n      <td>1.0</td>\n    </tr>\n    <tr>\n      <th>3</th>\n      <td>1.0</td>\n      <td>27.0</td>\n      <td>2.0</td>\n      <td>8.6625</td>\n      <td>3.0</td>\n      <td>1.0</td>\n    </tr>\n    <tr>\n      <th>4</th>\n      <td>0.0</td>\n      <td>22.0</td>\n      <td>2.0</td>\n      <td>12.2875</td>\n      <td>3.0</td>\n      <td>0.0</td>\n    </tr>\n    <tr>\n      <th>5</th>\n      <td>1.0</td>\n      <td>14.0</td>\n      <td>2.0</td>\n      <td>9.2250</td>\n      <td>3.0</td>\n      <td>1.0</td>\n    </tr>\n    <tr>\n      <th>6</th>\n      <td>0.0</td>\n      <td>30.0</td>\n      <td>1.0</td>\n      <td>7.6292</td>\n      <td>3.0</td>\n      <td>1.0</td>\n    </tr>\n    <tr>\n      <th>7</th>\n      <td>1.0</td>\n      <td>26.0</td>\n      <td>2.0</td>\n      <td>29.0000</td>\n      <td>2.0</td>\n      <td>0.0</td>\n    </tr>\n    <tr>\n      <th>8</th>\n      <td>0.0</td>\n      <td>18.0</td>\n      <td>0.0</td>\n      <td>7.2292</td>\n      <td>3.0</td>\n      <td>1.0</td>\n    </tr>\n    <tr>\n      <th>9</th>\n      <td>1.0</td>\n      <td>21.0</td>\n      <td>2.0</td>\n      <td>24.1500</td>\n      <td>3.0</td>\n      <td>0.0</td>\n    </tr>\n  </tbody>\n</table>\n</div>"
     },
     "execution_count": 471,
     "metadata": {},
     "output_type": "execute_result"
    }
   ],
   "source": [
    "# preprocess the data\n",
    "X_final = full_preprocessing(X_final, preprocessing_pipeline)\n",
    "X_final.head(10)"
   ],
   "metadata": {
    "collapsed": false,
    "ExecuteTime": {
     "end_time": "2023-05-27T09:24:26.250686300Z",
     "start_time": "2023-05-27T09:24:26.129622200Z"
    }
   }
  },
  {
   "cell_type": "code",
   "execution_count": 472,
   "outputs": [],
   "source": [
    "y_final = lr_model.predict(X_final)"
   ],
   "metadata": {
    "collapsed": false,
    "ExecuteTime": {
     "end_time": "2023-05-27T09:24:26.250686300Z",
     "start_time": "2023-05-27T09:24:26.164350Z"
    }
   }
  },
  {
   "cell_type": "code",
   "execution_count": 473,
   "outputs": [
    {
     "name": "stdout",
     "output_type": "stream",
     "text": [
      "<class 'pandas.core.series.Series'>\n",
      "<class 'numpy.ndarray'>\n"
     ]
    }
   ],
   "source": [
    "print(type(x_final_passenger_id))\n",
    "print(type(y_final))"
   ],
   "metadata": {
    "collapsed": false,
    "ExecuteTime": {
     "end_time": "2023-05-27T09:24:26.280718700Z",
     "start_time": "2023-05-27T09:24:26.167355500Z"
    }
   }
  },
  {
   "cell_type": "code",
   "execution_count": 474,
   "outputs": [
    {
     "data": {
      "text/plain": "   PassengerId  Survived\n0          892         0\n1          893         0\n2          894         0\n3          895         0\n4          896         1\n5          897         0\n6          898         1\n7          899         0\n8          900         1\n9          901         0",
      "text/html": "<div>\n<style scoped>\n    .dataframe tbody tr th:only-of-type {\n        vertical-align: middle;\n    }\n\n    .dataframe tbody tr th {\n        vertical-align: top;\n    }\n\n    .dataframe thead th {\n        text-align: right;\n    }\n</style>\n<table border=\"1\" class=\"dataframe\">\n  <thead>\n    <tr style=\"text-align: right;\">\n      <th></th>\n      <th>PassengerId</th>\n      <th>Survived</th>\n    </tr>\n  </thead>\n  <tbody>\n    <tr>\n      <th>0</th>\n      <td>892</td>\n      <td>0</td>\n    </tr>\n    <tr>\n      <th>1</th>\n      <td>893</td>\n      <td>0</td>\n    </tr>\n    <tr>\n      <th>2</th>\n      <td>894</td>\n      <td>0</td>\n    </tr>\n    <tr>\n      <th>3</th>\n      <td>895</td>\n      <td>0</td>\n    </tr>\n    <tr>\n      <th>4</th>\n      <td>896</td>\n      <td>1</td>\n    </tr>\n    <tr>\n      <th>5</th>\n      <td>897</td>\n      <td>0</td>\n    </tr>\n    <tr>\n      <th>6</th>\n      <td>898</td>\n      <td>1</td>\n    </tr>\n    <tr>\n      <th>7</th>\n      <td>899</td>\n      <td>0</td>\n    </tr>\n    <tr>\n      <th>8</th>\n      <td>900</td>\n      <td>1</td>\n    </tr>\n    <tr>\n      <th>9</th>\n      <td>901</td>\n      <td>0</td>\n    </tr>\n  </tbody>\n</table>\n</div>"
     },
     "execution_count": 474,
     "metadata": {},
     "output_type": "execute_result"
    }
   ],
   "source": [
    "df_final = pd.DataFrame(x_final_passenger_id)\n",
    "df_final[\"Survived\"] = y_final\n",
    "df_final.head(10)"
   ],
   "metadata": {
    "collapsed": false,
    "ExecuteTime": {
     "end_time": "2023-05-27T09:24:26.281719100Z",
     "start_time": "2023-05-27T09:24:26.200687500Z"
    }
   }
  },
  {
   "cell_type": "code",
   "execution_count": 475,
   "outputs": [],
   "source": [
    "filepath = Path('result.csv')\n",
    "filepath.parent.mkdir(parents=True, exist_ok=True)\n",
    "df_final.to_csv(filepath, index=False)"
   ],
   "metadata": {
    "collapsed": false,
    "ExecuteTime": {
     "end_time": "2023-05-27T09:24:26.281719100Z",
     "start_time": "2023-05-27T09:24:26.200687500Z"
    }
   }
  }
 ],
 "metadata": {
  "kernelspec": {
   "display_name": "Python 3",
   "language": "python",
   "name": "python3"
  },
  "language_info": {
   "codemirror_mode": {
    "name": "ipython",
    "version": 2
   },
   "file_extension": ".py",
   "mimetype": "text/x-python",
   "name": "python",
   "nbconvert_exporter": "python",
   "pygments_lexer": "ipython2",
   "version": "2.7.6"
  }
 },
 "nbformat": 4,
 "nbformat_minor": 0
}
