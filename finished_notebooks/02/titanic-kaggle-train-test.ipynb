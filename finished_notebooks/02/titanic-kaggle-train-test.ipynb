{
 "cells": [
  {
   "cell_type": "code",
   "execution_count": 90,
   "metadata": {
    "collapsed": true,
    "ExecuteTime": {
     "end_time": "2023-06-04T15:34:56.968377900Z",
     "start_time": "2023-06-04T15:34:56.903786500Z"
    }
   },
   "outputs": [],
   "source": [
    "import os\n",
    "from pathlib import Path\n",
    "\n",
    "import pandas as pd\n",
    "\n",
    "import matplotlib.pyplot as plt\n",
    "\n",
    "from sklearn.linear_model import LogisticRegression\n",
    "from sklearn.metrics import confusion_matrix, precision_score, recall_score, f1_score\n",
    "\n",
    "from sklearn.metrics import ConfusionMatrixDisplay\n",
    "\n",
    "from sklearn.linear_model import SGDClassifier\n",
    "from sklearn.tree import DecisionTreeClassifier\n",
    "\n",
    "from sklearn.ensemble import StackingClassifier\n",
    "\n",
    "\n",
    "import numpy as np # linear algebra\n",
    "import seaborn as sns\n",
    "\n",
    "from sklearn.model_selection import train_test_split\n",
    "from sklearn.impute import SimpleImputer\n",
    "from sklearn.preprocessing import OrdinalEncoder\n",
    "from sklearn.preprocessing import MinMaxScaler\n",
    "from sklearn.preprocessing import StandardScaler\n",
    "from sklearn.neighbors import KNeighborsRegressor\n",
    "from sklearn.model_selection import cross_val_score, cross_validate\n",
    "from sklearn.model_selection import GridSearchCV\n",
    "from sklearn.tree import DecisionTreeRegressor\n",
    "\n",
    "from pandas.plotting import scatter_matrix"
   ]
  },
  {
   "cell_type": "code",
   "execution_count": 40,
   "outputs": [],
   "source": [
    "def load_titanic_train_preprocessed():\n",
    "    train_preprocessed = pd.read_csv(os.path.join('data', 'train_preprocessed.csv'))\n",
    "    train_preprocessed_features = train_preprocessed.drop('Survived', axis=1)\n",
    "    train_preprocessed_label = train_preprocessed['Survived']\n",
    "    return train_preprocessed_features, train_preprocessed_label"
   ],
   "metadata": {
    "collapsed": false,
    "ExecuteTime": {
     "end_time": "2023-06-04T15:13:05.496694400Z",
     "start_time": "2023-06-04T15:13:05.493152600Z"
    }
   }
  },
  {
   "cell_type": "code",
   "execution_count": 42,
   "outputs": [],
   "source": [
    "def load_titanic_train_test_preprocessed():\n",
    "    train_test_preprocessed = pd.read_csv(os.path.join('data', 'train_test_preprocessed.csv'))\n",
    "    train_test_preprocessed_features = train_test_preprocessed.drop('Survived', axis=1)\n",
    "    train_test_preprocessed_label = train_test_preprocessed['Survived']\n",
    "    return train_test_preprocessed_features, train_test_preprocessed_label"
   ],
   "metadata": {
    "collapsed": false,
    "ExecuteTime": {
     "end_time": "2023-06-04T15:13:29.241651800Z",
     "start_time": "2023-06-04T15:13:29.227410800Z"
    }
   }
  },
  {
   "cell_type": "code",
   "execution_count": 43,
   "outputs": [],
   "source": [
    "X_train, y_train = load_titanic_train_preprocessed()\n",
    "X_test, y_test = load_titanic_train_test_preprocessed()"
   ],
   "metadata": {
    "collapsed": false,
    "ExecuteTime": {
     "end_time": "2023-06-04T15:13:29.820723200Z",
     "start_time": "2023-06-04T15:13:29.758719400Z"
    }
   }
  },
  {
   "cell_type": "markdown",
   "source": [
    "# Train the model"
   ],
   "metadata": {
    "collapsed": false
   }
  },
  {
   "cell_type": "markdown",
   "source": [
    "## LogisticRegression"
   ],
   "metadata": {
    "collapsed": false
   }
  },
  {
   "cell_type": "code",
   "execution_count": 80,
   "outputs": [
    {
     "name": "stdout",
     "output_type": "stream",
     "text": [
      "The score of our model is  0.7963483146067416\n"
     ]
    }
   ],
   "source": [
    "lr_model = LogisticRegression(max_iter=1000, penalty=None)\n",
    "lr_model.fit(X_train, y_train)\n",
    "print(\"The score of our model is \", lr_model.score(X_train, y_train))"
   ],
   "metadata": {
    "collapsed": false,
    "ExecuteTime": {
     "end_time": "2023-06-04T15:30:41.125888700Z",
     "start_time": "2023-06-04T15:30:41.096064700Z"
    }
   }
  },
  {
   "cell_type": "code",
   "execution_count": 83,
   "outputs": [
    {
     "data": {
      "text/plain": "<Figure size 640x480 with 2 Axes>",
      "image/png": "[encoded data removed]"
     },
     "metadata": {},
     "output_type": "display_data"
    },
    {
     "name": "stdout",
     "output_type": "stream",
     "text": [
      "The precision score is  0.6376811594202898\n",
      "The recall score is  0.7096774193548387\n",
      "The f1 score is  0.6717557251908397\n"
     ]
    }
   ],
   "source": [
    "final_predictions = lr_model.predict(X_test)\n",
    "ConfusionMatrixDisplay.from_predictions(y_test, final_predictions)\n",
    "plt.show()\n",
    "print(\"The precision score is \", precision_score(y_test, final_predictions))\n",
    "print(\"The recall score is \", recall_score(y_test, final_predictions))\n",
    "print(\"The f1 score is \", f1_score(y_test, final_predictions))"
   ],
   "metadata": {
    "collapsed": false,
    "ExecuteTime": {
     "end_time": "2023-06-04T15:31:03.959508300Z",
     "start_time": "2023-06-04T15:31:03.810509300Z"
    }
   }
  },
  {
   "cell_type": "markdown",
   "source": [
    "## SGDClassifier"
   ],
   "metadata": {
    "collapsed": false
   }
  },
  {
   "cell_type": "code",
   "execution_count": 84,
   "outputs": [
    {
     "name": "stdout",
     "output_type": "stream",
     "text": [
      "The score of our model is  0.6587078651685393\n"
     ]
    }
   ],
   "source": [
    "sgd_model = SGDClassifier(random_state=42)\n",
    "sgd_model.fit(X_train, y_train)\n",
    "print(\"The score of our model is \", sgd_model.score(X_train, y_train))"
   ],
   "metadata": {
    "collapsed": false,
    "ExecuteTime": {
     "end_time": "2023-06-04T15:31:25.767947600Z",
     "start_time": "2023-06-04T15:31:25.736039700Z"
    }
   }
  },
  {
   "cell_type": "code",
   "execution_count": 85,
   "outputs": [
    {
     "data": {
      "text/plain": "<Figure size 640x480 with 2 Axes>",
      "image/png": "[encoded data removed]"
     },
     "metadata": {},
     "output_type": "display_data"
    },
    {
     "name": "stdout",
     "output_type": "stream",
     "text": [
      "The precision score is  0.8125\n",
      "The recall score is  0.20967741935483872\n",
      "The f1 score is  0.33333333333333337\n"
     ]
    }
   ],
   "source": [
    "final_predictions = sgd_model.predict(X_test)\n",
    "ConfusionMatrixDisplay.from_predictions(y_test, final_predictions)\n",
    "plt.show()\n",
    "print(\"The precision score is \", precision_score(y_test, final_predictions))\n",
    "print(\"The recall score is \", recall_score(y_test, final_predictions))\n",
    "print(\"The f1 score is \", f1_score(y_test, final_predictions))"
   ],
   "metadata": {
    "collapsed": false,
    "ExecuteTime": {
     "end_time": "2023-06-04T15:31:26.411862500Z",
     "start_time": "2023-06-04T15:31:26.266432300Z"
    }
   }
  },
  {
   "cell_type": "markdown",
   "source": [
    "## Decision Tree"
   ],
   "metadata": {
    "collapsed": false
   }
  },
  {
   "cell_type": "code",
   "execution_count": 86,
   "outputs": [
    {
     "name": "stdout",
     "output_type": "stream",
     "text": [
      "The score of our model is  0.8019662921348315\n"
     ]
    }
   ],
   "source": [
    "dt_model = DecisionTreeClassifier(random_state=0, max_depth=2)\n",
    "dt_model.fit(X_train, y_train)\n",
    "print(\"The score of our model is \", dt_model.score(X_train, y_train))"
   ],
   "metadata": {
    "collapsed": false,
    "ExecuteTime": {
     "end_time": "2023-06-04T15:31:45.868460300Z",
     "start_time": "2023-06-04T15:31:45.841332600Z"
    }
   }
  },
  {
   "cell_type": "code",
   "execution_count": 87,
   "outputs": [
    {
     "data": {
      "text/plain": "<Figure size 640x480 with 2 Axes>",
      "image/png": "[encoded data removed]"
     },
     "metadata": {},
     "output_type": "display_data"
    },
    {
     "name": "stdout",
     "output_type": "stream",
     "text": [
      "The precision score is  0.6567164179104478\n",
      "The recall score is  0.7096774193548387\n",
      "The f1 score is  0.682170542635659\n"
     ]
    }
   ],
   "source": [
    "final_predictions = dt_model.predict(X_test)\n",
    "ConfusionMatrixDisplay.from_predictions(y_test, final_predictions)\n",
    "plt.show()\n",
    "print(\"The precision score is \", precision_score(y_test, final_predictions))\n",
    "print(\"The recall score is \", recall_score(y_test, final_predictions))\n",
    "print(\"The f1 score is \", f1_score(y_test, final_predictions))"
   ],
   "metadata": {
    "collapsed": false,
    "ExecuteTime": {
     "end_time": "2023-06-04T15:31:46.434333Z",
     "start_time": "2023-06-04T15:31:46.282327100Z"
    }
   }
  },
  {
   "cell_type": "markdown",
   "source": [
    "# Ensemble learning technique"
   ],
   "metadata": {
    "collapsed": false
   }
  },
  {
   "cell_type": "markdown",
   "source": [
    "## Stacking"
   ],
   "metadata": {
    "collapsed": false
   }
  },
  {
   "cell_type": "code",
   "execution_count": 94,
   "outputs": [
    {
     "name": "stdout",
     "output_type": "stream",
     "text": [
      "The score of our model is  0.8061797752808989\n"
     ]
    }
   ],
   "source": [
    "base_estimators = [\n",
    "    ('lr', lr_model),\n",
    "    ('sgd', sgd_model),\n",
    "    ('dt', dt_model)\n",
    "]\n",
    "\n",
    "ensemble_model = StackingClassifier(estimators=base_estimators)\n",
    "ensemble_model.fit(X_train, y_train)\n",
    "print(\"The score of our model is \", ensemble_model.score(X_train, y_train))"
   ],
   "metadata": {
    "collapsed": false,
    "ExecuteTime": {
     "end_time": "2023-06-04T15:37:26.556438400Z",
     "start_time": "2023-06-04T15:37:26.432474300Z"
    }
   }
  },
  {
   "cell_type": "code",
   "execution_count": 95,
   "outputs": [
    {
     "data": {
      "text/plain": "<Figure size 640x480 with 2 Axes>",
      "image/png": "[encoded data removed]"
     },
     "metadata": {},
     "output_type": "display_data"
    },
    {
     "name": "stdout",
     "output_type": "stream",
     "text": [
      "The precision score is  0.6875\n",
      "The recall score is  0.7096774193548387\n",
      "The f1 score is  0.6984126984126984\n"
     ]
    }
   ],
   "source": [
    "final_predictions = ensemble_model.predict(X_test)\n",
    "ConfusionMatrixDisplay.from_predictions(y_test, final_predictions)\n",
    "plt.show()\n",
    "print(\"The precision score is \", precision_score(y_test, final_predictions))\n",
    "print(\"The recall score is \", recall_score(y_test, final_predictions))\n",
    "print(\"The f1 score is \", f1_score(y_test, final_predictions))"
   ],
   "metadata": {
    "collapsed": false,
    "ExecuteTime": {
     "end_time": "2023-06-04T15:37:59.614196700Z",
     "start_time": "2023-06-04T15:37:59.455873900Z"
    }
   }
  },
  {
   "cell_type": "markdown",
   "source": [
    "# Create result for Kaggle"
   ],
   "metadata": {
    "collapsed": false
   }
  },
  {
   "cell_type": "code",
   "execution_count": 96,
   "outputs": [],
   "source": [
    "def load_titanic_test_preprocessed():\n",
    "    test_preprocessed = pd.read_csv(os.path.join('data', 'test_preprocessed.csv'))\n",
    "    test_preprocessed_features = test_preprocessed.drop('PassengerId', axis=1)\n",
    "    test_preprocessed_label = test_preprocessed['PassengerId']\n",
    "    return test_preprocessed_features, test_preprocessed_label\n",
    "\n",
    "X_final, x_final_passenger_id = load_titanic_test_preprocessed()\n",
    "\n",
    "y_final = ensemble_model.predict(X_final)\n",
    "\n",
    "df_final = pd.DataFrame(x_final_passenger_id)\n",
    "df_final[\"Survived\"] = y_final\n",
    "\n",
    "filepath = Path('result.csv')\n",
    "filepath.parent.mkdir(parents=True, exist_ok=True)\n",
    "df_final.to_csv(filepath, index=False)"
   ],
   "metadata": {
    "collapsed": false,
    "ExecuteTime": {
     "end_time": "2023-06-04T15:38:46.115363200Z",
     "start_time": "2023-06-04T15:38:46.097564900Z"
    }
   }
  },
  {
   "cell_type": "code",
   "execution_count": null,
   "outputs": [],
   "source": [],
   "metadata": {
    "collapsed": false
   }
  }
 ],
 "metadata": {
  "kernelspec": {
   "display_name": "Python 3",
   "language": "python",
   "name": "python3"
  },
  "language_info": {
   "codemirror_mode": {
    "name": "ipython",
    "version": 2
   },
   "file_extension": ".py",
   "mimetype": "text/x-python",
   "name": "python",
   "nbconvert_exporter": "python",
   "pygments_lexer": "ipython2",
   "version": "2.7.6"
  }
 },
 "nbformat": 4,
 "nbformat_minor": 0
}
