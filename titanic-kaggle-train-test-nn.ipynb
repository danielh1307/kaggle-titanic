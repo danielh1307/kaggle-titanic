{
 "cells": [
  {
   "cell_type": "markdown",
   "source": [
    "# Solving Titanic Kaggle Challenge with a Neural Network"
   ],
   "metadata": {
    "collapsed": false
   }
  },
  {
   "cell_type": "code",
   "execution_count": 68,
   "outputs": [],
   "source": [
    "import torch\n",
    "from torch import nn\n",
    "import torch.optim as optim\n",
    "\n",
    "import pandas as pd\n",
    "import os\n",
    "from torch.utils.data import DataLoader, TensorDataset\n",
    "import seaborn as sns\n",
    "\n",
    "import matplotlib.pyplot as plt\n",
    "\n",
    "from sklearn.metrics import ConfusionMatrixDisplay\n",
    "from sklearn.metrics import precision_score, recall_score, f1_score, classification_report, accuracy_score, precision_recall_curve\n",
    "from torchvision import datasets\n",
    "from torchvision.transforms import ToTensor"
   ],
   "metadata": {
    "collapsed": false,
    "ExecuteTime": {
     "end_time": "2023-08-27T11:06:28.288031600Z",
     "start_time": "2023-08-27T11:06:28.086533500Z"
    }
   }
  },
  {
   "cell_type": "markdown",
   "source": [
    "## Choose a model"
   ],
   "metadata": {
    "collapsed": false
   }
  },
  {
   "cell_type": "code",
   "execution_count": 41,
   "outputs": [],
   "source": [
    "# Here we define our model\n",
    "# It is a simple feedforward neural network\n",
    "\n",
    "# Input Layer --> number of features from our dataset\n",
    "# Hidden Layers\n",
    "# Activation Function: ReLU (Rectified Linear Unit) --> this is for introducing non-linearity\n",
    "# Output Layer: 1 neuron with a sigmoid activation function, representing the survival probability\n",
    "class TitanicNN(nn.Module):\n",
    "    def __init__(self, input_size):\n",
    "        super(TitanicNN, self).__init__()\n",
    "\n",
    "        # This is the first hidden layer with 128 neurons\n",
    "        # It takes the input features and applies a linear transformation followed by the ReLU activation function\n",
    "        self.fc1 = nn.Linear(input_size, 128)\n",
    "\n",
    "        # Second hidden layer with 64 neurons. It takes the output of the first hidden layer and applies another\n",
    "        # linear transformation followed by the ReLU activation function\n",
    "        self.fc2 = nn.Linear(128, 64)\n",
    "\n",
    "        # Output layer with 1 neuron. It takes the output of the second hidden layer and applies a linear transformation\n",
    "        # followed by the sigmoid activation function.\n",
    "        self.fc3 = nn.Linear(64, 1)\n",
    "        self.relu = nn.ReLU()\n",
    "        self.sigmoid = nn.Sigmoid()\n",
    "\n",
    "    def forward(self, x):\n",
    "        x = self.relu(self.fc1(x))\n",
    "        x = self.relu(self.fc2(x))\n",
    "        x = self.sigmoid(self.fc3(x))\n",
    "        return x"
   ],
   "metadata": {
    "collapsed": false,
    "ExecuteTime": {
     "end_time": "2023-08-27T10:53:16.980722700Z",
     "start_time": "2023-08-27T10:53:16.971911100Z"
    }
   }
  },
  {
   "cell_type": "code",
   "execution_count": 42,
   "outputs": [
    {
     "name": "stdout",
     "output_type": "stream",
     "text": [
      "Using cpu device\n",
      "TitanicNN(\n",
      "  (fc1): Linear(in_features=5, out_features=128, bias=True)\n",
      "  (fc2): Linear(in_features=128, out_features=64, bias=True)\n",
      "  (fc3): Linear(in_features=64, out_features=1, bias=True)\n",
      "  (relu): ReLU()\n",
      "  (sigmoid): Sigmoid()\n",
      ")\n"
     ]
    }
   ],
   "source": [
    "# Get cpu, gpu or mps device for training.\n",
    "device = (\n",
    "    \"cuda\"\n",
    "    if torch.cuda.is_available()\n",
    "    else \"mps\"\n",
    "    if torch.backends.mps.is_available()\n",
    "    else \"cpu\"\n",
    ")\n",
    "print(f\"Using {device} device\")\n",
    "\n",
    "number_of_featuers = 5\n",
    "model = TitanicNN(number_of_featuers).to(device)\n",
    "print(model)"
   ],
   "metadata": {
    "collapsed": false,
    "ExecuteTime": {
     "end_time": "2023-08-27T10:53:17.454598100Z",
     "start_time": "2023-08-27T10:53:17.445455600Z"
    }
   }
  },
  {
   "cell_type": "markdown",
   "source": [
    "## Choose a loss function"
   ],
   "metadata": {
    "collapsed": false
   }
  },
  {
   "cell_type": "markdown",
   "source": [
    "For binary classification tasks, the most common choice of loss function is the binary cross-entropy loss (log loss)."
   ],
   "metadata": {
    "collapsed": false
   }
  },
  {
   "cell_type": "code",
   "execution_count": 43,
   "outputs": [],
   "source": [
    "loss_function = nn.BCELoss()"
   ],
   "metadata": {
    "collapsed": false,
    "ExecuteTime": {
     "end_time": "2023-08-27T10:53:18.468613100Z",
     "start_time": "2023-08-27T10:53:18.460607100Z"
    }
   }
  },
  {
   "cell_type": "markdown",
   "source": [
    "## Choose an optimizer"
   ],
   "metadata": {
    "collapsed": false
   }
  },
  {
   "cell_type": "markdown",
   "source": [
    "For tasks like this, the Adam optimizer is a widely used choice due to its adaptive learning rate and good performance in practice."
   ],
   "metadata": {
    "collapsed": false
   }
  },
  {
   "cell_type": "code",
   "execution_count": 44,
   "outputs": [],
   "source": [
    "optimizer = optim.Adam(model.parameters(), lr=0.001)\n",
    "\n",
    "# You can adjust the learning rate (lr) parameter in the optim.Adam call to control the step size during optimization.\n",
    "# Experiment with different learning rates to find the one that works best for your specific task and model architecture."
   ],
   "metadata": {
    "collapsed": false,
    "ExecuteTime": {
     "end_time": "2023-08-27T10:53:19.705194700Z",
     "start_time": "2023-08-27T10:53:19.694236300Z"
    }
   }
  },
  {
   "cell_type": "markdown",
   "source": [
    "## Train the model"
   ],
   "metadata": {
    "collapsed": false
   }
  },
  {
   "cell_type": "code",
   "execution_count": 45,
   "outputs": [],
   "source": [
    "# loads just the training data\n",
    "# returns two DataFrames, one with just the features and one with the labels\n",
    "def load_titanic_train_preprocessed():\n",
    "    train_preprocessed = pd.read_csv(os.path.join('data', 'train_preprocessed.csv'))\n",
    "    train_preprocessed_features = train_preprocessed.drop('Survived', axis=1)\n",
    "    train_preprocessed_label = train_preprocessed['Survived']\n",
    "    return train_preprocessed_features, train_preprocessed_label"
   ],
   "metadata": {
    "collapsed": false,
    "ExecuteTime": {
     "end_time": "2023-08-27T10:53:20.602777800Z",
     "start_time": "2023-08-27T10:53:20.594265800Z"
    }
   }
  },
  {
   "cell_type": "code",
   "execution_count": 46,
   "outputs": [],
   "source": [
    "train_features, train_labels = load_titanic_train_preprocessed()\n",
    "\n",
    "# convert to PyTorch tensors\n",
    "features_tensors = torch.tensor(train_features.values, dtype=torch.float32)\n",
    "targets_tensors = torch.tensor(train_labels.values, dtype=torch.float32)\n",
    "\n",
    "# Create a TensorDataset\n",
    "dataset = TensorDataset(features_tensors, targets_tensors)\n",
    "\n",
    "# Define data loader\n",
    "# It contains both the features and the labels\n",
    "batch_size = 32\n",
    "data_loader = DataLoader(dataset, batch_size=batch_size, shuffle=True)"
   ],
   "metadata": {
    "collapsed": false,
    "ExecuteTime": {
     "end_time": "2023-08-27T10:53:20.825832300Z",
     "start_time": "2023-08-27T10:53:20.817968300Z"
    }
   }
  },
  {
   "cell_type": "code",
   "execution_count": 47,
   "outputs": [
    {
     "name": "stdout",
     "output_type": "stream",
     "text": [
      "Epoch [1/10], Loss: 0.6319913864135742\n",
      "Epoch [2/10], Loss: 0.5691677927970886\n",
      "Epoch [3/10], Loss: 0.44197288155555725\n",
      "Epoch [4/10], Loss: 0.3298034071922302\n",
      "Epoch [5/10], Loss: 0.8476349711418152\n",
      "Epoch [6/10], Loss: 0.7399035096168518\n",
      "Epoch [7/10], Loss: 0.21644185483455658\n",
      "Epoch [8/10], Loss: 0.5444587469100952\n",
      "Epoch [9/10], Loss: 0.38788703083992004\n",
      "Epoch [10/10], Loss: 0.6444790959358215\n"
     ]
    }
   ],
   "source": [
    "# Training loop\n",
    "num_epochs = 10\n",
    "losses = []\n",
    "for epoch in range(num_epochs):\n",
    "    for batch_inputs, batch_targets in data_loader:\n",
    "        # batch_inputs --> my features\n",
    "        # batch_targets --> my expected labels\n",
    "\n",
    "        # Clear gradients from previous iteration\n",
    "        optimizer.zero_grad()\n",
    "\n",
    "        # now we make predictions from our model\n",
    "        batch_outputs = model(batch_inputs)\n",
    "\n",
    "        # and we calculate the loss by comparing the predictions against our expected labels\n",
    "        # since batch_targets has shape [32] (1 row, 32 cols) and batch_outputs has [32,1]\n",
    "        # (32 rows, 1 col), we do an unsqueeze here to change the shape of batch_targets\n",
    "        loss = loss_function(batch_outputs, batch_targets.unsqueeze(1))\n",
    "        losses.append(loss.item())\n",
    "\n",
    "        # Backpropagate gradients\n",
    "        loss.backward()\n",
    "\n",
    "        # Update model parameters\n",
    "        optimizer.step()\n",
    "    print(f'Epoch [{epoch+1}/{num_epochs}], Loss: {loss.item()}')"
   ],
   "metadata": {
    "collapsed": false,
    "ExecuteTime": {
     "end_time": "2023-08-27T10:53:21.617937400Z",
     "start_time": "2023-08-27T10:53:21.300071100Z"
    }
   }
  },
  {
   "cell_type": "code",
   "execution_count": 48,
   "outputs": [
    {
     "data": {
      "text/plain": "<Axes: >"
     },
     "execution_count": 48,
     "metadata": {},
     "output_type": "execute_result"
    },
    {
     "data": {
      "text/plain": "<Figure size 640x480 with 1 Axes>",
      "image/png": "[encoded data removed]"
     },
     "metadata": {},
     "output_type": "display_data"
    }
   ],
   "source": [
    "sns.lineplot(losses)"
   ],
   "metadata": {
    "collapsed": false,
    "ExecuteTime": {
     "end_time": "2023-08-27T10:53:22.787881300Z",
     "start_time": "2023-08-27T10:53:22.579894600Z"
    }
   }
  },
  {
   "cell_type": "markdown",
   "source": [
    "# Make predictions"
   ],
   "metadata": {
    "collapsed": false
   }
  },
  {
   "cell_type": "code",
   "execution_count": 50,
   "outputs": [],
   "source": [
    "# loads just the test data\n",
    "# returns two DataFrames, one with just the features and one with the labels\n",
    "def load_titanic_train_test_preprocessed():\n",
    "    train_test_preprocessed = pd.read_csv(os.path.join('data', 'train_test_preprocessed.csv'))\n",
    "    train_test_preprocessed_features = train_test_preprocessed.drop('Survived', axis=1)\n",
    "    train_test_preprocessed_label = train_test_preprocessed['Survived']\n",
    "    return train_test_preprocessed_features, train_test_preprocessed_label"
   ],
   "metadata": {
    "collapsed": false,
    "ExecuteTime": {
     "end_time": "2023-08-27T10:57:28.313328500Z",
     "start_time": "2023-08-27T10:57:28.301051200Z"
    }
   }
  },
  {
   "cell_type": "code",
   "execution_count": 69,
   "outputs": [],
   "source": [
    "def create_report(predictions, expected_labels):\n",
    "    ConfusionMatrixDisplay.from_predictions(expected_labels, predictions)\n",
    "    plt.show()\n",
    "    print(\"The test score is \", accuracy_score(expected_labels, predictions))\n",
    "\n",
    "    ## for the next methods:\n",
    "    ## if pos_label is not given, it just calculates the f1_score for pos_label=1\n",
    "    ## with average=\"weighted\", we can define to calculate the average weighted for all labels\n",
    "    ## with average=\"macro\", we get the unweighted mean (label imbalance is not taken into account)\n",
    "\n",
    "\n",
    "    ## precision score: TP / (TP + FP) ==> the more false positives I have, the smaller the precision score\n",
    "    print(\"The precision score is \", precision_score(expected_labels, predictions, average=\"weighted\"))\n",
    "\n",
    "    ## recall score: TP / (TP + FN) ==> the more false negatives I have, the smaller the recall score\n",
    "    print(\"The recall score is \", recall_score(expected_labels, predictions, average=\"weighted\"))\n",
    "\n",
    "    ## f1 score: combination of precision and recall score\n",
    "    print(\"The f1 score is \", f1_score(expected_labels, predictions, average=\"weighted\"))\n",
    "    print(classification_report(expected_labels, predictions))"
   ],
   "metadata": {
    "collapsed": false,
    "ExecuteTime": {
     "end_time": "2023-08-27T11:07:56.300099200Z",
     "start_time": "2023-08-27T11:07:56.289276500Z"
    }
   }
  },
  {
   "cell_type": "code",
   "execution_count": 53,
   "outputs": [],
   "source": [
    "test_features, test_labels = load_titanic_train_test_preprocessed()\n",
    "\n",
    "# convert to PyTorch tensors\n",
    "test_features_tensors = torch.tensor(test_features.values, dtype=torch.float32)"
   ],
   "metadata": {
    "collapsed": false,
    "ExecuteTime": {
     "end_time": "2023-08-27T10:58:23.770499500Z",
     "start_time": "2023-08-27T10:58:23.761229200Z"
    }
   }
  },
  {
   "cell_type": "code",
   "execution_count": 70,
   "outputs": [
    {
     "data": {
      "text/plain": "<Figure size 640x480 with 2 Axes>",
      "image/png": "[encoded data removed]"
     },
     "metadata": {},
     "output_type": "display_data"
    },
    {
     "name": "stdout",
     "output_type": "stream",
     "text": [
      "The test score is  0.7541899441340782\n",
      "The precision score is  0.7524388526360266\n",
      "The recall score is  0.7541899441340782\n",
      "The f1 score is  0.7532166756439171\n",
      "              precision    recall  f1-score   support\n",
      "\n",
      "           0       0.81      0.82      0.81       117\n",
      "           1       0.65      0.63      0.64        62\n",
      "\n",
      "    accuracy                           0.75       179\n",
      "   macro avg       0.73      0.72      0.73       179\n",
      "weighted avg       0.75      0.75      0.75       179\n",
      "\n"
     ]
    }
   ],
   "source": [
    "predicted_labels = model(test_features_tensors)\n",
    "\n",
    "# The predicted_labels contain values between 0 and 1.\n",
    "# We apply a threshold to make a binary classification.\n",
    "threshold = 0.5\n",
    "binary_predictions = [1 if prob >= threshold else 0 for prob in predicted_labels]\n",
    "create_report(binary_predictions, test_labels)"
   ],
   "metadata": {
    "collapsed": false,
    "ExecuteTime": {
     "end_time": "2023-08-27T11:08:18.559362300Z",
     "start_time": "2023-08-27T11:08:18.417462700Z"
    }
   }
  }
 ],
 "metadata": {
  "kernelspec": {
   "display_name": "Python 3",
   "language": "python",
   "name": "python3"
  },
  "language_info": {
   "codemirror_mode": {
    "name": "ipython",
    "version": 2
   },
   "file_extension": ".py",
   "mimetype": "text/x-python",
   "name": "python",
   "nbconvert_exporter": "python",
   "pygments_lexer": "ipython2",
   "version": "2.7.6"
  }
 },
 "nbformat": 4,
 "nbformat_minor": 0
}
