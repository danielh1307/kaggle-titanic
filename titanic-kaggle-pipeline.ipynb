{
 "cells": [
  {
   "cell_type": "code",
   "execution_count": 206,
   "metadata": {
    "collapsed": true,
    "ExecuteTime": {
     "end_time": "2023-05-18T07:05:12.091033500Z",
     "start_time": "2023-05-18T07:05:12.025327Z"
    }
   },
   "outputs": [],
   "source": [
    "import os\n",
    "import pandas as pd\n",
    "\n",
    "from sklearn.pipeline import Pipeline\n",
    "from sklearn.model_selection import train_test_split\n",
    "from sklearn.impute import SimpleImputer\n",
    "from sklearn.preprocessing import OrdinalEncoder\n",
    "from sklearn.neighbors import KNeighborsRegressor\n",
    "from sklearn.model_selection import cross_validate\n",
    "from sklearn.model_selection import GridSearchCV\n",
    "from sklearn.tree import DecisionTreeRegressor"
   ]
  },
  {
   "cell_type": "markdown",
   "source": [
    "# Build a Pipeline"
   ],
   "metadata": {
    "collapsed": false
   }
  },
  {
   "cell_type": "markdown",
   "source": [
    "## Central methods to call on the data"
   ],
   "metadata": {
    "collapsed": false
   }
  },
  {
   "cell_type": "code",
   "execution_count": 207,
   "outputs": [],
   "source": [
    "def load_titanic_data():\n",
    "    return pd.read_csv(os.path.join('data', 'train.csv'))"
   ],
   "metadata": {
    "collapsed": false,
    "ExecuteTime": {
     "end_time": "2023-05-18T07:05:12.279499200Z",
     "start_time": "2023-05-18T07:05:12.045841700Z"
    }
   }
  },
  {
   "cell_type": "code",
   "execution_count": 208,
   "outputs": [],
   "source": [
    "def split_data(df):\n",
    "    stratify_by = df[\"Pclass\"]\n",
    "    return train_test_split(df, test_size=0.2, stratify=stratify_by, random_state=42)"
   ],
   "metadata": {
    "collapsed": false,
    "ExecuteTime": {
     "end_time": "2023-05-18T07:05:12.345461900Z",
     "start_time": "2023-05-18T07:05:12.048766700Z"
    }
   }
  },
  {
   "cell_type": "code",
   "execution_count": 209,
   "outputs": [],
   "source": [
    "def drop_columns(df):\n",
    "    columns_to_drop = [\"PassengerId\", \"Name\", \"Ticket\", \"Cabin\"]\n",
    "    return df.drop(columns_to_drop, axis=1)"
   ],
   "metadata": {
    "collapsed": false,
    "ExecuteTime": {
     "end_time": "2023-05-18T07:05:12.346467300Z",
     "start_time": "2023-05-18T07:05:12.059899100Z"
    }
   }
  },
  {
   "cell_type": "code",
   "execution_count": 210,
   "outputs": [],
   "source": [
    "titanic = load_titanic_data()\n",
    "# we call the train set just \"titanic\"\n",
    "titanic, titanic_test_set = split_data(titanic)\n",
    "titanic = drop_columns(titanic)"
   ],
   "metadata": {
    "collapsed": false,
    "ExecuteTime": {
     "end_time": "2023-05-18T07:05:12.408462300Z",
     "start_time": "2023-05-18T07:05:12.070456700Z"
    }
   }
  },
  {
   "cell_type": "code",
   "execution_count": 211,
   "outputs": [
    {
     "data": {
      "text/plain": "     Survived  Pclass     Sex   Age  SibSp  Parch     Fare Embarked\n820         1       1  female  52.0      1      1  93.5000        S\n439         0       2    male  31.0      0      0  10.5000        S\n821         1       3    male  27.0      0      0   8.6625        S\n403         0       3    male  28.0      1      0  15.8500        S\n343         0       2    male  25.0      0      0  13.0000        S\n514         0       3    male  24.0      0      0   7.4958        S\n40          0       3  female  40.0      1      0   9.4750        S\n101         0       3    male   NaN      0      0   7.8958        S\n93          0       3    male  26.0      1      2  20.5750        S\n81          1       3    male  29.0      0      0   9.5000        S",
      "text/html": "<div>\n<style scoped>\n    .dataframe tbody tr th:only-of-type {\n        vertical-align: middle;\n    }\n\n    .dataframe tbody tr th {\n        vertical-align: top;\n    }\n\n    .dataframe thead th {\n        text-align: right;\n    }\n</style>\n<table border=\"1\" class=\"dataframe\">\n  <thead>\n    <tr style=\"text-align: right;\">\n      <th></th>\n      <th>Survived</th>\n      <th>Pclass</th>\n      <th>Sex</th>\n      <th>Age</th>\n      <th>SibSp</th>\n      <th>Parch</th>\n      <th>Fare</th>\n      <th>Embarked</th>\n    </tr>\n  </thead>\n  <tbody>\n    <tr>\n      <th>820</th>\n      <td>1</td>\n      <td>1</td>\n      <td>female</td>\n      <td>52.0</td>\n      <td>1</td>\n      <td>1</td>\n      <td>93.5000</td>\n      <td>S</td>\n    </tr>\n    <tr>\n      <th>439</th>\n      <td>0</td>\n      <td>2</td>\n      <td>male</td>\n      <td>31.0</td>\n      <td>0</td>\n      <td>0</td>\n      <td>10.5000</td>\n      <td>S</td>\n    </tr>\n    <tr>\n      <th>821</th>\n      <td>1</td>\n      <td>3</td>\n      <td>male</td>\n      <td>27.0</td>\n      <td>0</td>\n      <td>0</td>\n      <td>8.6625</td>\n      <td>S</td>\n    </tr>\n    <tr>\n      <th>403</th>\n      <td>0</td>\n      <td>3</td>\n      <td>male</td>\n      <td>28.0</td>\n      <td>1</td>\n      <td>0</td>\n      <td>15.8500</td>\n      <td>S</td>\n    </tr>\n    <tr>\n      <th>343</th>\n      <td>0</td>\n      <td>2</td>\n      <td>male</td>\n      <td>25.0</td>\n      <td>0</td>\n      <td>0</td>\n      <td>13.0000</td>\n      <td>S</td>\n    </tr>\n    <tr>\n      <th>514</th>\n      <td>0</td>\n      <td>3</td>\n      <td>male</td>\n      <td>24.0</td>\n      <td>0</td>\n      <td>0</td>\n      <td>7.4958</td>\n      <td>S</td>\n    </tr>\n    <tr>\n      <th>40</th>\n      <td>0</td>\n      <td>3</td>\n      <td>female</td>\n      <td>40.0</td>\n      <td>1</td>\n      <td>0</td>\n      <td>9.4750</td>\n      <td>S</td>\n    </tr>\n    <tr>\n      <th>101</th>\n      <td>0</td>\n      <td>3</td>\n      <td>male</td>\n      <td>NaN</td>\n      <td>0</td>\n      <td>0</td>\n      <td>7.8958</td>\n      <td>S</td>\n    </tr>\n    <tr>\n      <th>93</th>\n      <td>0</td>\n      <td>3</td>\n      <td>male</td>\n      <td>26.0</td>\n      <td>1</td>\n      <td>2</td>\n      <td>20.5750</td>\n      <td>S</td>\n    </tr>\n    <tr>\n      <th>81</th>\n      <td>1</td>\n      <td>3</td>\n      <td>male</td>\n      <td>29.0</td>\n      <td>0</td>\n      <td>0</td>\n      <td>9.5000</td>\n      <td>S</td>\n    </tr>\n  </tbody>\n</table>\n</div>"
     },
     "execution_count": 211,
     "metadata": {},
     "output_type": "execute_result"
    }
   ],
   "source": [
    "titanic.head(10)"
   ],
   "metadata": {
    "collapsed": false,
    "ExecuteTime": {
     "end_time": "2023-05-18T07:05:12.445461100Z",
     "start_time": "2023-05-18T07:05:12.086033700Z"
    }
   }
  },
  {
   "cell_type": "markdown",
   "source": [
    "## Now we create Pipelines for the different columns"
   ],
   "metadata": {
    "collapsed": false
   }
  },
  {
   "cell_type": "code",
   "execution_count": 212,
   "outputs": [],
   "source": [
    "def transform_sex(df):\n",
    "    # we are going to use an OrdinalEncoder to make numerical data of the sex\n",
    "    sex_pipeline = Pipeline([\n",
    "        (\"encode\", OrdinalEncoder())\n",
    "    ])\n",
    "    sex_pipeline.fit(df)\n",
    "    return pd.DataFrame(sex_pipeline.transform(df), columns=sex_pipeline.get_feature_names_out(), index=df.index)"
   ],
   "metadata": {
    "collapsed": false,
    "ExecuteTime": {
     "end_time": "2023-05-18T07:05:12.445461100Z",
     "start_time": "2023-05-18T07:05:12.096494900Z"
    }
   }
  },
  {
   "cell_type": "code",
   "execution_count": 213,
   "outputs": [],
   "source": [
    "def transform_age(df):\n",
    "    # since there are lots of null values we are going to impute them\n",
    "    age_pipeline = Pipeline([\n",
    "        (\"impute\", SimpleImputer(strategy=\"median\"))\n",
    "    ])\n",
    "    age_pipeline.fit(df)\n",
    "    return pd.DataFrame(age_pipeline.transform(df), columns=age_pipeline.get_feature_names_out(), index=df.index)\n"
   ],
   "metadata": {
    "collapsed": false,
    "ExecuteTime": {
     "end_time": "2023-05-18T07:05:12.445461100Z",
     "start_time": "2023-05-18T07:05:12.106453Z"
    }
   }
  },
  {
   "cell_type": "code",
   "execution_count": 214,
   "outputs": [],
   "source": [
    "def transform_sipsp_parch(df):\n",
    "    # from SibSp and Parch, we create a new column \"Alone\"\n",
    "    # Create a mask for the conditions\n",
    "    mask = (df[\"SibSp\"] == 0) & (df[\"Parch\"] == 0)\n",
    "\n",
    "    # Create a new column, initialized with 1\n",
    "    df.loc[:, \"Alone\"] = 1\n",
    "    df.loc[~mask, \"Alone\"] = 0 # set 0 where the condition is not met\n",
    "    df = df.drop([\"SibSp\", \"Parch\"], axis=1)\n",
    "    return df"
   ],
   "metadata": {
    "collapsed": false,
    "ExecuteTime": {
     "end_time": "2023-05-18T07:05:12.446491200Z",
     "start_time": "2023-05-18T07:05:12.118592800Z"
    }
   }
  },
  {
   "cell_type": "code",
   "execution_count": 215,
   "outputs": [],
   "source": [
    "def transform_embarked(df):\n",
    "    # we impute the null values with the most frequent and afterward encode it\n",
    "    embarked_pipeline = Pipeline([\n",
    "        (\"impute\", SimpleImputer(strategy=\"most_frequent\")),\n",
    "        (\"encode\", OrdinalEncoder())\n",
    "    ])\n",
    "    embarked_pipeline.fit(df)\n",
    "    return pd.DataFrame(embarked_pipeline.transform(df), columns=embarked_pipeline.get_feature_names_out(), index=df.index)\n"
   ],
   "metadata": {
    "collapsed": false,
    "ExecuteTime": {
     "end_time": "2023-05-18T07:05:12.446491200Z",
     "start_time": "2023-05-18T07:05:12.131137500Z"
    }
   }
  },
  {
   "cell_type": "code",
   "execution_count": 216,
   "outputs": [
    {
     "name": "stderr",
     "output_type": "stream",
     "text": [
      "C:\\Users\\hammd\\AppData\\Local\\Temp\\ipykernel_14188\\1468986728.py:7: SettingWithCopyWarning: \n",
      "A value is trying to be set on a copy of a slice from a DataFrame.\n",
      "Try using .loc[row_indexer,col_indexer] = value instead\n",
      "\n",
      "See the caveats in the documentation: https://pandas.pydata.org/pandas-docs/stable/user_guide/indexing.html#returning-a-view-versus-a-copy\n",
      "  df.loc[:, \"Alone\"] = 1\n"
     ]
    }
   ],
   "source": [
    "titanic[\"Sex\"] = transform_sex(titanic[[\"Sex\"]])\n",
    "titanic[\"Age\"] = transform_age(titanic[[\"Age\"]])\n",
    "titanic[\"Alone\"] = transform_sipsp_parch(titanic[[\"SibSp\", \"Parch\"]])\n",
    "titanic[\"Embarked\"] = transform_embarked(titanic[[\"Embarked\"]])"
   ],
   "metadata": {
    "collapsed": false,
    "ExecuteTime": {
     "end_time": "2023-05-18T07:05:12.446491200Z",
     "start_time": "2023-05-18T07:05:12.142174300Z"
    }
   }
  },
  {
   "cell_type": "code",
   "execution_count": 217,
   "outputs": [
    {
     "data": {
      "text/plain": "     Survived  Pclass  Sex   Age  SibSp  Parch     Fare  Embarked  Alone\n820         1       1  0.0  52.0      1      1  93.5000       2.0      0\n439         0       2  1.0  31.0      0      0  10.5000       2.0      1\n821         1       3  1.0  27.0      0      0   8.6625       2.0      1\n403         0       3  1.0  28.0      1      0  15.8500       2.0      0\n343         0       2  1.0  25.0      0      0  13.0000       2.0      1\n514         0       3  1.0  24.0      0      0   7.4958       2.0      1\n40          0       3  0.0  40.0      1      0   9.4750       2.0      0\n101         0       3  1.0  28.0      0      0   7.8958       2.0      1\n93          0       3  1.0  26.0      1      2  20.5750       2.0      0\n81          1       3  1.0  29.0      0      0   9.5000       2.0      1",
      "text/html": "<div>\n<style scoped>\n    .dataframe tbody tr th:only-of-type {\n        vertical-align: middle;\n    }\n\n    .dataframe tbody tr th {\n        vertical-align: top;\n    }\n\n    .dataframe thead th {\n        text-align: right;\n    }\n</style>\n<table border=\"1\" class=\"dataframe\">\n  <thead>\n    <tr style=\"text-align: right;\">\n      <th></th>\n      <th>Survived</th>\n      <th>Pclass</th>\n      <th>Sex</th>\n      <th>Age</th>\n      <th>SibSp</th>\n      <th>Parch</th>\n      <th>Fare</th>\n      <th>Embarked</th>\n      <th>Alone</th>\n    </tr>\n  </thead>\n  <tbody>\n    <tr>\n      <th>820</th>\n      <td>1</td>\n      <td>1</td>\n      <td>0.0</td>\n      <td>52.0</td>\n      <td>1</td>\n      <td>1</td>\n      <td>93.5000</td>\n      <td>2.0</td>\n      <td>0</td>\n    </tr>\n    <tr>\n      <th>439</th>\n      <td>0</td>\n      <td>2</td>\n      <td>1.0</td>\n      <td>31.0</td>\n      <td>0</td>\n      <td>0</td>\n      <td>10.5000</td>\n      <td>2.0</td>\n      <td>1</td>\n    </tr>\n    <tr>\n      <th>821</th>\n      <td>1</td>\n      <td>3</td>\n      <td>1.0</td>\n      <td>27.0</td>\n      <td>0</td>\n      <td>0</td>\n      <td>8.6625</td>\n      <td>2.0</td>\n      <td>1</td>\n    </tr>\n    <tr>\n      <th>403</th>\n      <td>0</td>\n      <td>3</td>\n      <td>1.0</td>\n      <td>28.0</td>\n      <td>1</td>\n      <td>0</td>\n      <td>15.8500</td>\n      <td>2.0</td>\n      <td>0</td>\n    </tr>\n    <tr>\n      <th>343</th>\n      <td>0</td>\n      <td>2</td>\n      <td>1.0</td>\n      <td>25.0</td>\n      <td>0</td>\n      <td>0</td>\n      <td>13.0000</td>\n      <td>2.0</td>\n      <td>1</td>\n    </tr>\n    <tr>\n      <th>514</th>\n      <td>0</td>\n      <td>3</td>\n      <td>1.0</td>\n      <td>24.0</td>\n      <td>0</td>\n      <td>0</td>\n      <td>7.4958</td>\n      <td>2.0</td>\n      <td>1</td>\n    </tr>\n    <tr>\n      <th>40</th>\n      <td>0</td>\n      <td>3</td>\n      <td>0.0</td>\n      <td>40.0</td>\n      <td>1</td>\n      <td>0</td>\n      <td>9.4750</td>\n      <td>2.0</td>\n      <td>0</td>\n    </tr>\n    <tr>\n      <th>101</th>\n      <td>0</td>\n      <td>3</td>\n      <td>1.0</td>\n      <td>28.0</td>\n      <td>0</td>\n      <td>0</td>\n      <td>7.8958</td>\n      <td>2.0</td>\n      <td>1</td>\n    </tr>\n    <tr>\n      <th>93</th>\n      <td>0</td>\n      <td>3</td>\n      <td>1.0</td>\n      <td>26.0</td>\n      <td>1</td>\n      <td>2</td>\n      <td>20.5750</td>\n      <td>2.0</td>\n      <td>0</td>\n    </tr>\n    <tr>\n      <th>81</th>\n      <td>1</td>\n      <td>3</td>\n      <td>1.0</td>\n      <td>29.0</td>\n      <td>0</td>\n      <td>0</td>\n      <td>9.5000</td>\n      <td>2.0</td>\n      <td>1</td>\n    </tr>\n  </tbody>\n</table>\n</div>"
     },
     "execution_count": 217,
     "metadata": {},
     "output_type": "execute_result"
    }
   ],
   "source": [
    "titanic.head(10)"
   ],
   "metadata": {
    "collapsed": false,
    "ExecuteTime": {
     "end_time": "2023-05-18T07:05:12.447494100Z",
     "start_time": "2023-05-18T07:05:12.163022200Z"
    }
   }
  },
  {
   "cell_type": "code",
   "execution_count": 218,
   "outputs": [
    {
     "data": {
      "text/plain": "Survived    0\nPclass      0\nSex         0\nAge         0\nSibSp       0\nParch       0\nFare        0\nEmbarked    0\nAlone       0\ndtype: int64"
     },
     "execution_count": 218,
     "metadata": {},
     "output_type": "execute_result"
    }
   ],
   "source": [
    "titanic.isna().sum()"
   ],
   "metadata": {
    "collapsed": false,
    "ExecuteTime": {
     "end_time": "2023-05-18T07:05:12.447494100Z",
     "start_time": "2023-05-18T07:05:12.172754200Z"
    }
   }
  },
  {
   "cell_type": "markdown",
   "source": [
    "# Train the data"
   ],
   "metadata": {
    "collapsed": false
   }
  },
  {
   "cell_type": "markdown",
   "source": [
    "## KNeighborsRegressor"
   ],
   "metadata": {
    "collapsed": false
   }
  },
  {
   "cell_type": "code",
   "execution_count": 219,
   "outputs": [],
   "source": [
    "X = titanic.drop([\"Survived\"], axis=1)\n",
    "y = titanic[\"Survived\"]"
   ],
   "metadata": {
    "collapsed": false,
    "ExecuteTime": {
     "end_time": "2023-05-18T07:05:12.447494100Z",
     "start_time": "2023-05-18T07:05:12.184390Z"
    }
   }
  },
  {
   "cell_type": "code",
   "execution_count": 220,
   "outputs": [
    {
     "name": "stdout",
     "output_type": "stream",
     "text": [
      "The score of our model is  0.39983862433862416\n"
     ]
    }
   ],
   "source": [
    "knn_model = KNeighborsRegressor(n_neighbors=5)\n",
    "knn_model.fit(X, y)\n",
    "print(\"The score of our model is \", knn_model.score(X, y))"
   ],
   "metadata": {
    "collapsed": false,
    "ExecuteTime": {
     "end_time": "2023-05-18T07:05:12.447494100Z",
     "start_time": "2023-05-18T07:05:12.196408500Z"
    }
   }
  },
  {
   "cell_type": "code",
   "execution_count": 221,
   "outputs": [
    {
     "name": "stdout",
     "output_type": "stream",
     "text": [
      "[CV] END ......................................., score=0.045 total time=   0.0s\n",
      "[CV] END ......................................., score=0.229 total time=   0.0s\n",
      "[CV] END ......................................., score=0.193 total time=   0.0s\n",
      "[CV] END ......................................., score=0.027 total time=   0.0s\n",
      "[CV] END ......................................., score=0.010 total time=   0.0s\n",
      "The score of our model is  0.39983862433862416\n"
     ]
    },
    {
     "name": "stderr",
     "output_type": "stream",
     "text": [
      "[Parallel(n_jobs=1)]: Using backend SequentialBackend with 1 concurrent workers.\n",
      "[Parallel(n_jobs=1)]: Done   1 out of   1 | elapsed:    0.0s remaining:    0.0s\n",
      "[Parallel(n_jobs=1)]: Done   2 out of   2 | elapsed:    0.0s remaining:    0.0s\n",
      "[Parallel(n_jobs=1)]: Done   3 out of   3 | elapsed:    0.0s remaining:    0.0s\n",
      "[Parallel(n_jobs=1)]: Done   4 out of   4 | elapsed:    0.0s remaining:    0.0s\n",
      "[Parallel(n_jobs=1)]: Done   5 out of   5 | elapsed:    0.0s finished\n"
     ]
    }
   ],
   "source": [
    "cv_results = cross_validate(knn_model, X, y, cv=5, verbose=5)\n",
    "print(\"The score of our model is \", knn_model.score(X, y))"
   ],
   "metadata": {
    "collapsed": false,
    "ExecuteTime": {
     "end_time": "2023-05-18T07:05:12.447494100Z",
     "start_time": "2023-05-18T07:05:12.211265400Z"
    }
   }
  },
  {
   "cell_type": "code",
   "execution_count": 222,
   "outputs": [
    {
     "data": {
      "text/plain": "GridSearchCV(estimator=KNeighborsRegressor(),\n             param_grid={'n_neighbors': range(1, 20)}, return_train_score=True)",
      "text/html": "<style>#sk-container-id-7 {color: black;background-color: white;}#sk-container-id-7 pre{padding: 0;}#sk-container-id-7 div.sk-toggleable {background-color: white;}#sk-container-id-7 label.sk-toggleable__label {cursor: pointer;display: block;width: 100%;margin-bottom: 0;padding: 0.3em;box-sizing: border-box;text-align: center;}#sk-container-id-7 label.sk-toggleable__label-arrow:before {content: \"▸\";float: left;margin-right: 0.25em;color: #696969;}#sk-container-id-7 label.sk-toggleable__label-arrow:hover:before {color: black;}#sk-container-id-7 div.sk-estimator:hover label.sk-toggleable__label-arrow:before {color: black;}#sk-container-id-7 div.sk-toggleable__content {max-height: 0;max-width: 0;overflow: hidden;text-align: left;background-color: #f0f8ff;}#sk-container-id-7 div.sk-toggleable__content pre {margin: 0.2em;color: black;border-radius: 0.25em;background-color: #f0f8ff;}#sk-container-id-7 input.sk-toggleable__control:checked~div.sk-toggleable__content {max-height: 200px;max-width: 100%;overflow: auto;}#sk-container-id-7 input.sk-toggleable__control:checked~label.sk-toggleable__label-arrow:before {content: \"▾\";}#sk-container-id-7 div.sk-estimator input.sk-toggleable__control:checked~label.sk-toggleable__label {background-color: #d4ebff;}#sk-container-id-7 div.sk-label input.sk-toggleable__control:checked~label.sk-toggleable__label {background-color: #d4ebff;}#sk-container-id-7 input.sk-hidden--visually {border: 0;clip: rect(1px 1px 1px 1px);clip: rect(1px, 1px, 1px, 1px);height: 1px;margin: -1px;overflow: hidden;padding: 0;position: absolute;width: 1px;}#sk-container-id-7 div.sk-estimator {font-family: monospace;background-color: #f0f8ff;border: 1px dotted black;border-radius: 0.25em;box-sizing: border-box;margin-bottom: 0.5em;}#sk-container-id-7 div.sk-estimator:hover {background-color: #d4ebff;}#sk-container-id-7 div.sk-parallel-item::after {content: \"\";width: 100%;border-bottom: 1px solid gray;flex-grow: 1;}#sk-container-id-7 div.sk-label:hover label.sk-toggleable__label {background-color: #d4ebff;}#sk-container-id-7 div.sk-serial::before {content: \"\";position: absolute;border-left: 1px solid gray;box-sizing: border-box;top: 0;bottom: 0;left: 50%;z-index: 0;}#sk-container-id-7 div.sk-serial {display: flex;flex-direction: column;align-items: center;background-color: white;padding-right: 0.2em;padding-left: 0.2em;position: relative;}#sk-container-id-7 div.sk-item {position: relative;z-index: 1;}#sk-container-id-7 div.sk-parallel {display: flex;align-items: stretch;justify-content: center;background-color: white;position: relative;}#sk-container-id-7 div.sk-item::before, #sk-container-id-7 div.sk-parallel-item::before {content: \"\";position: absolute;border-left: 1px solid gray;box-sizing: border-box;top: 0;bottom: 0;left: 50%;z-index: -1;}#sk-container-id-7 div.sk-parallel-item {display: flex;flex-direction: column;z-index: 1;position: relative;background-color: white;}#sk-container-id-7 div.sk-parallel-item:first-child::after {align-self: flex-end;width: 50%;}#sk-container-id-7 div.sk-parallel-item:last-child::after {align-self: flex-start;width: 50%;}#sk-container-id-7 div.sk-parallel-item:only-child::after {width: 0;}#sk-container-id-7 div.sk-dashed-wrapped {border: 1px dashed gray;margin: 0 0.4em 0.5em 0.4em;box-sizing: border-box;padding-bottom: 0.4em;background-color: white;}#sk-container-id-7 div.sk-label label {font-family: monospace;font-weight: bold;display: inline-block;line-height: 1.2em;}#sk-container-id-7 div.sk-label-container {text-align: center;}#sk-container-id-7 div.sk-container {/* jupyter's `normalize.less` sets `[hidden] { display: none; }` but bootstrap.min.css set `[hidden] { display: none !important; }` so we also need the `!important` here to be able to override the default hidden behavior on the sphinx rendered scikit-learn.org. See: https://github.com/scikit-learn/scikit-learn/issues/21755 */display: inline-block !important;position: relative;}#sk-container-id-7 div.sk-text-repr-fallback {display: none;}</style><div id=\"sk-container-id-7\" class=\"sk-top-container\"><div class=\"sk-text-repr-fallback\"><pre>GridSearchCV(estimator=KNeighborsRegressor(),\n             param_grid={&#x27;n_neighbors&#x27;: range(1, 20)}, return_train_score=True)</pre><b>In a Jupyter environment, please rerun this cell to show the HTML representation or trust the notebook. <br />On GitHub, the HTML representation is unable to render, please try loading this page with nbviewer.org.</b></div><div class=\"sk-container\" hidden><div class=\"sk-item sk-dashed-wrapped\"><div class=\"sk-label-container\"><div class=\"sk-label sk-toggleable\"><input class=\"sk-toggleable__control sk-hidden--visually\" id=\"sk-estimator-id-19\" type=\"checkbox\" ><label for=\"sk-estimator-id-19\" class=\"sk-toggleable__label sk-toggleable__label-arrow\">GridSearchCV</label><div class=\"sk-toggleable__content\"><pre>GridSearchCV(estimator=KNeighborsRegressor(),\n             param_grid={&#x27;n_neighbors&#x27;: range(1, 20)}, return_train_score=True)</pre></div></div></div><div class=\"sk-parallel\"><div class=\"sk-parallel-item\"><div class=\"sk-item\"><div class=\"sk-label-container\"><div class=\"sk-label sk-toggleable\"><input class=\"sk-toggleable__control sk-hidden--visually\" id=\"sk-estimator-id-20\" type=\"checkbox\" ><label for=\"sk-estimator-id-20\" class=\"sk-toggleable__label sk-toggleable__label-arrow\">estimator: KNeighborsRegressor</label><div class=\"sk-toggleable__content\"><pre>KNeighborsRegressor()</pre></div></div></div><div class=\"sk-serial\"><div class=\"sk-item\"><div class=\"sk-estimator sk-toggleable\"><input class=\"sk-toggleable__control sk-hidden--visually\" id=\"sk-estimator-id-21\" type=\"checkbox\" ><label for=\"sk-estimator-id-21\" class=\"sk-toggleable__label sk-toggleable__label-arrow\">KNeighborsRegressor</label><div class=\"sk-toggleable__content\"><pre>KNeighborsRegressor()</pre></div></div></div></div></div></div></div></div></div></div>"
     },
     "execution_count": 222,
     "metadata": {},
     "output_type": "execute_result"
    }
   ],
   "source": [
    "grid = GridSearchCV(estimator=KNeighborsRegressor(),\n",
    "                   param_grid={\"n_neighbors\": range(1, 20)},\n",
    "                   return_train_score=True)\n",
    "grid.fit(X, y)"
   ],
   "metadata": {
    "collapsed": false,
    "ExecuteTime": {
     "end_time": "2023-05-18T07:05:12.870962500Z",
     "start_time": "2023-05-18T07:05:12.240463400Z"
    }
   }
  },
  {
   "cell_type": "code",
   "execution_count": 223,
   "outputs": [
    {
     "name": "stdout",
     "output_type": "stream",
     "text": [
      "Best param: {'n_neighbors': 11}, best score: 0.16042832603314933\n"
     ]
    }
   ],
   "source": [
    "print(f\"Best param: {grid.best_params_}, best score: {grid.best_score_}\")"
   ],
   "metadata": {
    "collapsed": false,
    "ExecuteTime": {
     "end_time": "2023-05-18T07:05:12.870962500Z",
     "start_time": "2023-05-18T07:05:12.865940300Z"
    }
   }
  },
  {
   "cell_type": "code",
   "execution_count": 224,
   "outputs": [
    {
     "name": "stdout",
     "output_type": "stream",
     "text": [
      "The score of our model is  0.3063475665748392\n"
     ]
    }
   ],
   "source": [
    "best_model = grid.best_estimator_\n",
    "print(\"The score of our model is \", best_model.score(X, y))"
   ],
   "metadata": {
    "collapsed": false,
    "ExecuteTime": {
     "end_time": "2023-05-18T07:05:12.887206500Z",
     "start_time": "2023-05-18T07:05:12.869962500Z"
    }
   }
  },
  {
   "cell_type": "markdown",
   "source": [
    "## DecisionTreeRegressor"
   ],
   "metadata": {
    "collapsed": false
   }
  },
  {
   "cell_type": "code",
   "execution_count": 225,
   "outputs": [
    {
     "name": "stdout",
     "output_type": "stream",
     "text": [
      "The score of our model is  0.9587472442680776\n"
     ]
    }
   ],
   "source": [
    "dtr = DecisionTreeRegressor()\n",
    "dtr.fit(X, y)\n",
    "print(\"The score of our model is \", dtr.score(X, y))"
   ],
   "metadata": {
    "collapsed": false,
    "ExecuteTime": {
     "end_time": "2023-05-18T07:05:12.902183500Z",
     "start_time": "2023-05-18T07:05:12.885208Z"
    }
   }
  },
  {
   "cell_type": "code",
   "execution_count": 226,
   "outputs": [
    {
     "name": "stdout",
     "output_type": "stream",
     "text": [
      "Best estimator:  DecisionTreeRegressor(max_depth=3)\n",
      "Score of best estimator:  0.4904980977472344\n"
     ]
    }
   ],
   "source": [
    "search_space = {\n",
    "    'max_depth': [None, 1,2,3],\n",
    "    'splitter': [\"best\", \"random\"],\n",
    "    'min_samples_split': [2,3,4]\n",
    "}   # these are possibilities how the DecisionTreeRegressor can be configured\n",
    "grid = GridSearchCV(estimator=DecisionTreeRegressor(),\n",
    "                    param_grid=search_space,\n",
    "                    return_train_score=True,\n",
    "                    )\n",
    "grid.fit(X, y)\n",
    "results = grid.cv_results_\n",
    "results = pd.DataFrame(results)\n",
    "print(\"Best estimator: \", grid.best_estimator_)\n",
    "print(\"Score of best estimator: \", grid.best_estimator_.score(X, y))"
   ],
   "metadata": {
    "collapsed": false,
    "ExecuteTime": {
     "end_time": "2023-05-18T07:05:13.383776900Z",
     "start_time": "2023-05-18T07:05:12.897181500Z"
    }
   }
  },
  {
   "cell_type": "code",
   "execution_count": 227,
   "outputs": [
    {
     "name": "stdout",
     "output_type": "stream",
     "text": [
      "The score of our model is  0.4904980977472344\n"
     ]
    }
   ],
   "source": [
    "best_model = grid.best_estimator_\n",
    "print(\"The score of our model is \", best_model.score(X, y))"
   ],
   "metadata": {
    "collapsed": false,
    "ExecuteTime": {
     "end_time": "2023-05-18T07:05:13.383776900Z",
     "start_time": "2023-05-18T07:05:13.374206600Z"
    }
   }
  }
 ],
 "metadata": {
  "kernelspec": {
   "display_name": "Python 3",
   "language": "python",
   "name": "python3"
  },
  "language_info": {
   "codemirror_mode": {
    "name": "ipython",
    "version": 2
   },
   "file_extension": ".py",
   "mimetype": "text/x-python",
   "name": "python",
   "nbconvert_exporter": "python",
   "pygments_lexer": "ipython2",
   "version": "2.7.6"
  }
 },
 "nbformat": 4,
 "nbformat_minor": 0
}
