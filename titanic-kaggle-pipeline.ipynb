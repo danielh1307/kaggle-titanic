{
 "cells": [
  {
   "cell_type": "code",
   "execution_count": 1,
   "outputs": [],
   "source": [
    "import os\n",
    "\n",
    "import numpy as np\n",
    "import pandas as pd\n",
    "\n",
    "from sklearn.compose import ColumnTransformer\n",
    "from sklearn.impute import SimpleImputer\n",
    "from sklearn.model_selection import train_test_split\n",
    "from sklearn.pipeline import Pipeline\n",
    "from sklearn.preprocessing import OrdinalEncoder, FunctionTransformer, StandardScaler, MinMaxScaler"
   ],
   "metadata": {
    "collapsed": false,
    "ExecuteTime": {
     "end_time": "2023-08-27T08:50:02.700395500Z",
     "start_time": "2023-08-27T08:50:02.238322300Z"
    }
   }
  },
  {
   "cell_type": "markdown",
   "source": [
    "# Build a Pipeline"
   ],
   "metadata": {
    "collapsed": false
   }
  },
  {
   "cell_type": "markdown",
   "source": [
    "## Central methods to call on the data"
   ],
   "metadata": {
    "collapsed": false
   }
  },
  {
   "cell_type": "code",
   "execution_count": 2,
   "outputs": [],
   "source": [
    "def load_titanic_data():\n",
    "    return pd.read_csv(os.path.join('data', 'train.csv'))\n",
    "\n",
    "def split_data(df):\n",
    "    stratify_by = df[\"Pclass\"]\n",
    "    titanic_train, titanic_test = train_test_split(df, test_size=0.2, stratify=stratify_by, random_state=42)\n",
    "    titanic_train_features = titanic_train.drop('Survived', axis=1)\n",
    "    titanic_train_label = titanic_train['Survived']\n",
    "    titanic_test_features = titanic_test.drop('Survived', axis=1)\n",
    "    titanic_test_label = titanic_test['Survived']\n",
    "    return titanic_train_features, titanic_train_label, titanic_test_features, titanic_test_label"
   ],
   "metadata": {
    "collapsed": false,
    "ExecuteTime": {
     "end_time": "2023-08-27T08:50:13.131171500Z",
     "start_time": "2023-08-27T08:50:13.121919200Z"
    }
   }
  },
  {
   "cell_type": "code",
   "execution_count": 16,
   "outputs": [],
   "source": [
    "titanic = load_titanic_data()\n",
    "X_train, y_train, X_test, y_test = split_data(titanic)"
   ],
   "metadata": {
    "collapsed": false,
    "ExecuteTime": {
     "end_time": "2023-08-27T08:58:31.154406Z",
     "start_time": "2023-08-27T08:58:31.142255700Z"
    }
   }
  },
  {
   "cell_type": "markdown",
   "source": [
    "## Analyze the data\n",
    "\n",
    "See Notebook titanic-kaggle-analyze"
   ],
   "metadata": {
    "collapsed": false
   }
  },
  {
   "cell_type": "markdown",
   "source": [
    "## Preprocess the data"
   ],
   "metadata": {
    "collapsed": false
   }
  },
  {
   "cell_type": "code",
   "execution_count": 4,
   "outputs": [],
   "source": [
    "def drop_columns(df):\n",
    "    columns_to_drop = [\"PassengerId\", \"Name\", \"Ticket\", \"Cabin\", \"Age\", \"Embarked\"]\n",
    "    return df.drop(columns_to_drop, axis=1)"
   ],
   "metadata": {
    "collapsed": false,
    "ExecuteTime": {
     "end_time": "2023-08-27T08:51:19.633067700Z",
     "start_time": "2023-08-27T08:51:19.629302300Z"
    }
   }
  },
  {
   "cell_type": "code",
   "execution_count": 5,
   "outputs": [],
   "source": [
    "def sex_pipeline():\n",
    "    # we are going to use an OrdinalEncoder to make numerical data of the sex\n",
    "    return Pipeline([\n",
    "        (\"encode\", OrdinalEncoder())\n",
    "    ])"
   ],
   "metadata": {
    "collapsed": false,
    "ExecuteTime": {
     "end_time": "2023-08-27T08:51:36.098282700Z",
     "start_time": "2023-08-27T08:51:36.094224800Z"
    }
   }
  },
  {
   "cell_type": "code",
   "execution_count": 6,
   "outputs": [],
   "source": [
    "def age_pipeline():\n",
    "    # since there are lots of null values we are going to impute them\n",
    "    return Pipeline([\n",
    "        (\"impute\", SimpleImputer(strategy=\"median\")),\n",
    "        (\"scale\", StandardScaler())\n",
    "    ])"
   ],
   "metadata": {
    "collapsed": false,
    "ExecuteTime": {
     "end_time": "2023-08-27T08:51:45.330030300Z",
     "start_time": "2023-08-27T08:51:45.327519300Z"
    }
   }
  },
  {
   "cell_type": "code",
   "execution_count": 7,
   "outputs": [],
   "source": [
    "def transform_sipsp_parch(df):\n",
    "    # from SibSp and Parch, we create a new column \"Alone\"\n",
    "    # Create a mask for the conditions\n",
    "    mask = (df[\"SibSp\"] == 0) & (df[\"Parch\"] == 0)\n",
    "\n",
    "    # Create a new column, initialized with 1\n",
    "    df.loc[:, \"Alone\"] = 1\n",
    "\n",
    "    df.loc[~mask, \"Alone\"] = 0 # set 0 where the condition is not met\n",
    "    df = df.drop([\"SibSp\", \"Parch\"], axis=1)\n",
    "    return df"
   ],
   "metadata": {
    "collapsed": false,
    "ExecuteTime": {
     "end_time": "2023-08-27T08:51:57.494754700Z",
     "start_time": "2023-08-27T08:51:57.491151600Z"
    }
   }
  },
  {
   "cell_type": "code",
   "execution_count": 8,
   "outputs": [],
   "source": [
    "def transform_sipsp_parch_only_0_1(df):\n",
    "    # from SibSp and Parch, we create a new column \"Alone\"\n",
    "    # Create a mask for the conditions\n",
    "    condition_no_sibsp = (df[\"SibSp\"] == 0)\n",
    "    condition_no_parents_children = (df[\"Parch\"] == 0)\n",
    "\n",
    "    # Create two new columns, initialized with 1\n",
    "    df.loc[:, \"Wo_SibSp\"] = 1\n",
    "    df.loc[:, \"Wo_Parch\"] = 1\n",
    "\n",
    "    df.loc[~condition_no_sibsp, \"Wo_SibSp\"] = 0 # set 0 (\"false\") where the condition is not met\n",
    "    df.loc[~condition_no_parents_children, \"Wo_Parch\"] = 0 # set 0 (\"false\") where the condition is not met\n",
    "    df = df.drop([\"SibSp\", \"Parch\"], axis=1)\n",
    "    return df"
   ],
   "metadata": {
    "collapsed": false,
    "ExecuteTime": {
     "end_time": "2023-08-27T08:52:30.152811300Z",
     "start_time": "2023-08-27T08:52:30.143452600Z"
    }
   }
  },
  {
   "cell_type": "code",
   "execution_count": 9,
   "outputs": [],
   "source": [
    "def embarked_pipeline():\n",
    "    # we impute the null values with the most frequent and afterward encode it\n",
    "    return  Pipeline([\n",
    "        (\"impute\", SimpleImputer(strategy=\"most_frequent\")),\n",
    "        (\"encode\", OrdinalEncoder())\n",
    "    ])\n"
   ],
   "metadata": {
    "collapsed": false,
    "ExecuteTime": {
     "end_time": "2023-08-27T08:52:45.450161300Z",
     "start_time": "2023-08-27T08:52:45.447078700Z"
    }
   }
  },
  {
   "cell_type": "code",
   "execution_count": 13,
   "outputs": [],
   "source": [
    "def fare_pipeline():\n",
    "    # we impute the null values with the median\n",
    "    return Pipeline([\n",
    "        (\"impute\", SimpleImputer(strategy=\"median\")),\n",
    "        (\"scale\", StandardScaler())\n",
    "    ])"
   ],
   "metadata": {
    "collapsed": false,
    "ExecuteTime": {
     "end_time": "2023-08-27T08:58:00.753461300Z",
     "start_time": "2023-08-27T08:58:00.730609400Z"
    }
   }
  },
  {
   "cell_type": "code",
   "execution_count": 14,
   "outputs": [],
   "source": [
    "def get_logarithm(x):\n",
    "    return np.log(x)"
   ],
   "metadata": {
    "collapsed": false,
    "ExecuteTime": {
     "end_time": "2023-08-27T08:58:01.084863300Z",
     "start_time": "2023-08-27T08:58:01.080463200Z"
    }
   }
  },
  {
   "cell_type": "code",
   "execution_count": 17,
   "outputs": [],
   "source": [
    "def preprocess_feature(X):\n",
    "    # drop the columns\n",
    "    X = drop_columns(X)\n",
    "\n",
    "    # create column \"Wo_SibSp\" and \"Wo_Parch\" from [\"SibSp\", \"Parch\"]\n",
    "    #transformer = FunctionTransformer(transform_sipsp_parch_only_0_1)\n",
    "    #X = transformer.transform(X)\n",
    "\n",
    "    # since we have \"0\" values in Fare, we replace them with \"NaN\" (the imputer in the pipeline will change those afterwards)\n",
    "    X['Fare'] = X['Fare'].replace(0, np.nan)\n",
    "\n",
    "    # now we create the logarithm of the Fare\n",
    "    X['Fare'] = X.Fare.apply(lambda x: get_logarithm(x))\n",
    "\n",
    "    return X\n",
    "\n",
    "\n",
    "def apply_pipeline(X, pipeline):\n",
    "    # here we do only a \"transform\", no \"fit\"!\n",
    "    # fit is used to \"train\" the pipeline (this is done outside this function)\n",
    "    # transform is used to transform the data based on the learned parameters from the fit() step\n",
    "    return pd.DataFrame(pipeline.transform(X), columns=pipeline.get_feature_names_out(), index=X.index)\n",
    "\n",
    "\n",
    "transformers = [\n",
    "    ('Sex', sex_pipeline(), ['Sex']),\n",
    "    #('Age', age_pipeline(), ['Age']),\n",
    "    #('Embarked', embarked_pipeline(), ['Embarked']),\n",
    "    ('Fare', fare_pipeline(), ['Fare'])\n",
    "]\n",
    "\n",
    "# Create the ColumnTransformer\n",
    "ct = ColumnTransformer(transformers, remainder=\"passthrough\")\n",
    "\n",
    "# Create the pipeline\n",
    "preprocessing_pipeline = Pipeline([\n",
    "    (\"preprocessor\", ct)\n",
    "])\n",
    "\n",
    "X_train = preprocess_feature(X_train)\n",
    "\n",
    "# fit the pipeline on the preprocessed features\n",
    "preprocessing_pipeline.fit(X_train)\n",
    "\n",
    "# apply the pipeline\n",
    "X_train = apply_pipeline(X_train, preprocessing_pipeline)"
   ],
   "metadata": {
    "collapsed": false,
    "ExecuteTime": {
     "end_time": "2023-08-27T08:58:36.917494500Z",
     "start_time": "2023-08-27T08:58:36.889550400Z"
    }
   }
  },
  {
   "cell_type": "code",
   "execution_count": 18,
   "outputs": [
    {
     "data": {
      "text/plain": "     Sex__Sex  Fare__Fare  remainder__Pclass  remainder__SibSp  \\\n820       0.0    1.710940                1.0               1.0   \n439       1.0   -0.639350                2.0               0.0   \n821       1.0   -0.846125                3.0               0.0   \n403       1.0   -0.196726                3.0               1.0   \n343       1.0   -0.409786                2.0               0.0   \n514       1.0   -1.001615                3.0               0.0   \n40        0.0   -0.749759                3.0               1.0   \n101       1.0   -0.945735                3.0               0.0   \n93        1.0    0.083715                3.0               1.0   \n81        1.0   -0.746927                3.0               0.0   \n\n     remainder__Parch  \n820               1.0  \n439               0.0  \n821               0.0  \n403               0.0  \n343               0.0  \n514               0.0  \n40                0.0  \n101               0.0  \n93                2.0  \n81                0.0  ",
      "text/html": "<div>\n<style scoped>\n    .dataframe tbody tr th:only-of-type {\n        vertical-align: middle;\n    }\n\n    .dataframe tbody tr th {\n        vertical-align: top;\n    }\n\n    .dataframe thead th {\n        text-align: right;\n    }\n</style>\n<table border=\"1\" class=\"dataframe\">\n  <thead>\n    <tr style=\"text-align: right;\">\n      <th></th>\n      <th>Sex__Sex</th>\n      <th>Fare__Fare</th>\n      <th>remainder__Pclass</th>\n      <th>remainder__SibSp</th>\n      <th>remainder__Parch</th>\n    </tr>\n  </thead>\n  <tbody>\n    <tr>\n      <th>820</th>\n      <td>0.0</td>\n      <td>1.710940</td>\n      <td>1.0</td>\n      <td>1.0</td>\n      <td>1.0</td>\n    </tr>\n    <tr>\n      <th>439</th>\n      <td>1.0</td>\n      <td>-0.639350</td>\n      <td>2.0</td>\n      <td>0.0</td>\n      <td>0.0</td>\n    </tr>\n    <tr>\n      <th>821</th>\n      <td>1.0</td>\n      <td>-0.846125</td>\n      <td>3.0</td>\n      <td>0.0</td>\n      <td>0.0</td>\n    </tr>\n    <tr>\n      <th>403</th>\n      <td>1.0</td>\n      <td>-0.196726</td>\n      <td>3.0</td>\n      <td>1.0</td>\n      <td>0.0</td>\n    </tr>\n    <tr>\n      <th>343</th>\n      <td>1.0</td>\n      <td>-0.409786</td>\n      <td>2.0</td>\n      <td>0.0</td>\n      <td>0.0</td>\n    </tr>\n    <tr>\n      <th>514</th>\n      <td>1.0</td>\n      <td>-1.001615</td>\n      <td>3.0</td>\n      <td>0.0</td>\n      <td>0.0</td>\n    </tr>\n    <tr>\n      <th>40</th>\n      <td>0.0</td>\n      <td>-0.749759</td>\n      <td>3.0</td>\n      <td>1.0</td>\n      <td>0.0</td>\n    </tr>\n    <tr>\n      <th>101</th>\n      <td>1.0</td>\n      <td>-0.945735</td>\n      <td>3.0</td>\n      <td>0.0</td>\n      <td>0.0</td>\n    </tr>\n    <tr>\n      <th>93</th>\n      <td>1.0</td>\n      <td>0.083715</td>\n      <td>3.0</td>\n      <td>1.0</td>\n      <td>2.0</td>\n    </tr>\n    <tr>\n      <th>81</th>\n      <td>1.0</td>\n      <td>-0.746927</td>\n      <td>3.0</td>\n      <td>0.0</td>\n      <td>0.0</td>\n    </tr>\n  </tbody>\n</table>\n</div>"
     },
     "execution_count": 18,
     "metadata": {},
     "output_type": "execute_result"
    }
   ],
   "source": [
    "X_train.head(10)"
   ],
   "metadata": {
    "collapsed": false,
    "ExecuteTime": {
     "end_time": "2023-08-27T08:58:38.622087600Z",
     "start_time": "2023-08-27T08:58:38.606610100Z"
    }
   }
  },
  {
   "cell_type": "code",
   "execution_count": 19,
   "outputs": [],
   "source": [
    "# Save the data as train_preprocessed.csv\n",
    "\n",
    "filepath = os.path.join('data', 'train_preprocessed.csv')\n",
    "X_train_preprocessed = pd.DataFrame(X_train)\n",
    "X_train_preprocessed[\"Survived\"] = y_train\n",
    "X_train_preprocessed.to_csv(filepath, index=False)"
   ],
   "metadata": {
    "collapsed": false,
    "ExecuteTime": {
     "end_time": "2023-08-27T08:59:06.161353400Z",
     "start_time": "2023-08-27T08:59:06.146698500Z"
    }
   }
  },
  {
   "cell_type": "markdown",
   "source": [
    "# Preprocess and save the test data"
   ],
   "metadata": {
    "collapsed": false
   }
  },
  {
   "cell_type": "code",
   "execution_count": 20,
   "outputs": [
    {
     "data": {
      "text/plain": "     Sex__Sex  Fare__Fare  remainder__Pclass  remainder__SibSp  \\\n132       0.0   -0.292412                3.0               1.0   \n3         0.0    1.102797                1.0               1.0   \n270       1.0    0.524314                1.0               0.0   \n421       1.0   -0.968087                3.0               0.0   \n154       1.0   -1.028227                3.0               0.0   \n292       1.0   -0.420172                2.0               0.0   \n304       1.0   -0.924946                3.0               0.0   \n202       1.0   -1.155522                3.0               0.0   \n810       1.0   -0.946866                3.0               0.0   \n108       1.0   -0.945735                3.0               0.0   \n\n     remainder__Parch  \n132               0.0  \n3                 0.0  \n270               0.0  \n421               0.0  \n154               0.0  \n292               0.0  \n304               0.0  \n202               0.0  \n810               0.0  \n108               0.0  ",
      "text/html": "<div>\n<style scoped>\n    .dataframe tbody tr th:only-of-type {\n        vertical-align: middle;\n    }\n\n    .dataframe tbody tr th {\n        vertical-align: top;\n    }\n\n    .dataframe thead th {\n        text-align: right;\n    }\n</style>\n<table border=\"1\" class=\"dataframe\">\n  <thead>\n    <tr style=\"text-align: right;\">\n      <th></th>\n      <th>Sex__Sex</th>\n      <th>Fare__Fare</th>\n      <th>remainder__Pclass</th>\n      <th>remainder__SibSp</th>\n      <th>remainder__Parch</th>\n    </tr>\n  </thead>\n  <tbody>\n    <tr>\n      <th>132</th>\n      <td>0.0</td>\n      <td>-0.292412</td>\n      <td>3.0</td>\n      <td>1.0</td>\n      <td>0.0</td>\n    </tr>\n    <tr>\n      <th>3</th>\n      <td>0.0</td>\n      <td>1.102797</td>\n      <td>1.0</td>\n      <td>1.0</td>\n      <td>0.0</td>\n    </tr>\n    <tr>\n      <th>270</th>\n      <td>1.0</td>\n      <td>0.524314</td>\n      <td>1.0</td>\n      <td>0.0</td>\n      <td>0.0</td>\n    </tr>\n    <tr>\n      <th>421</th>\n      <td>1.0</td>\n      <td>-0.968087</td>\n      <td>3.0</td>\n      <td>0.0</td>\n      <td>0.0</td>\n    </tr>\n    <tr>\n      <th>154</th>\n      <td>1.0</td>\n      <td>-1.028227</td>\n      <td>3.0</td>\n      <td>0.0</td>\n      <td>0.0</td>\n    </tr>\n    <tr>\n      <th>292</th>\n      <td>1.0</td>\n      <td>-0.420172</td>\n      <td>2.0</td>\n      <td>0.0</td>\n      <td>0.0</td>\n    </tr>\n    <tr>\n      <th>304</th>\n      <td>1.0</td>\n      <td>-0.924946</td>\n      <td>3.0</td>\n      <td>0.0</td>\n      <td>0.0</td>\n    </tr>\n    <tr>\n      <th>202</th>\n      <td>1.0</td>\n      <td>-1.155522</td>\n      <td>3.0</td>\n      <td>0.0</td>\n      <td>0.0</td>\n    </tr>\n    <tr>\n      <th>810</th>\n      <td>1.0</td>\n      <td>-0.946866</td>\n      <td>3.0</td>\n      <td>0.0</td>\n      <td>0.0</td>\n    </tr>\n    <tr>\n      <th>108</th>\n      <td>1.0</td>\n      <td>-0.945735</td>\n      <td>3.0</td>\n      <td>0.0</td>\n      <td>0.0</td>\n    </tr>\n  </tbody>\n</table>\n</div>"
     },
     "execution_count": 20,
     "metadata": {},
     "output_type": "execute_result"
    }
   ],
   "source": [
    "# preprocess the test data\n",
    "X_test = preprocess_feature(X_test)\n",
    "\n",
    "# apply the pipeline\n",
    "X_test = apply_pipeline(X_test, preprocessing_pipeline)\n",
    "\n",
    "X_test.head(10)"
   ],
   "metadata": {
    "collapsed": false,
    "ExecuteTime": {
     "end_time": "2023-08-27T08:59:27.548451500Z",
     "start_time": "2023-08-27T08:59:27.532193900Z"
    }
   }
  },
  {
   "cell_type": "code",
   "execution_count": 21,
   "outputs": [],
   "source": [
    "filepath = os.path.join('data', 'train_test_preprocessed.csv')\n",
    "X_test_preprocessed = pd.DataFrame(X_test)\n",
    "X_test_preprocessed[\"Survived\"] = y_test\n",
    "X_test_preprocessed.to_csv(filepath, index=False)"
   ],
   "metadata": {
    "collapsed": false,
    "ExecuteTime": {
     "end_time": "2023-08-27T08:59:42.930643900Z",
     "start_time": "2023-08-27T08:59:42.915009900Z"
    }
   }
  },
  {
   "cell_type": "markdown",
   "source": [
    "# Train and test the model\n",
    "\n",
    "See Notebook titanic-kaggle-train-test.pynb"
   ],
   "metadata": {
    "collapsed": false
   }
  },
  {
   "cell_type": "markdown",
   "source": [
    "# Preprocess the Data which will be submitted to Kaggle\n",
    "\n",
    "Here we preprocess the test data (the data which will be submitted to Kaggle)"
   ],
   "metadata": {
    "collapsed": false
   }
  },
  {
   "cell_type": "code",
   "execution_count": 22,
   "outputs": [],
   "source": [
    "def load_titanic_test_data():\n",
    "    return pd.read_csv(os.path.join('data', 'test.csv'))\n",
    "\n",
    "X_final = load_titanic_test_data()"
   ],
   "metadata": {
    "collapsed": false,
    "ExecuteTime": {
     "end_time": "2023-08-27T09:02:50.994725800Z",
     "start_time": "2023-08-27T09:02:50.959989500Z"
    }
   }
  },
  {
   "cell_type": "code",
   "execution_count": 23,
   "outputs": [],
   "source": [
    "# we need to save the PassengerId\n",
    "x_final_passenger_id = X_final[\"PassengerId\"]"
   ],
   "metadata": {
    "collapsed": false,
    "ExecuteTime": {
     "end_time": "2023-08-27T09:02:52.963656300Z",
     "start_time": "2023-08-27T09:02:52.948709400Z"
    }
   }
  },
  {
   "cell_type": "code",
   "execution_count": 24,
   "outputs": [
    {
     "data": {
      "text/plain": "   Sex__Sex  Fare__Fare  remainder__Pclass  remainder__SibSp  \\\n0       1.0   -0.954840                3.0               0.0   \n1       0.0   -1.075171                3.0               1.0   \n2       1.0   -0.725919                2.0               0.0   \n3       1.0   -0.846125                3.0               0.0   \n4       0.0   -0.470373                3.0               1.0   \n5       1.0   -0.778500                3.0               0.0   \n6       0.0   -0.982655                3.0               0.0   \n7       1.0    0.452630                2.0               1.0   \n8       0.0   -1.040541                3.0               0.0   \n9       1.0    0.255917                3.0               2.0   \n\n   remainder__Parch  PassengerId  \n0               0.0          892  \n1               0.0          893  \n2               0.0          894  \n3               0.0          895  \n4               1.0          896  \n5               0.0          897  \n6               0.0          898  \n7               1.0          899  \n8               0.0          900  \n9               0.0          901  ",
      "text/html": "<div>\n<style scoped>\n    .dataframe tbody tr th:only-of-type {\n        vertical-align: middle;\n    }\n\n    .dataframe tbody tr th {\n        vertical-align: top;\n    }\n\n    .dataframe thead th {\n        text-align: right;\n    }\n</style>\n<table border=\"1\" class=\"dataframe\">\n  <thead>\n    <tr style=\"text-align: right;\">\n      <th></th>\n      <th>Sex__Sex</th>\n      <th>Fare__Fare</th>\n      <th>remainder__Pclass</th>\n      <th>remainder__SibSp</th>\n      <th>remainder__Parch</th>\n      <th>PassengerId</th>\n    </tr>\n  </thead>\n  <tbody>\n    <tr>\n      <th>0</th>\n      <td>1.0</td>\n      <td>-0.954840</td>\n      <td>3.0</td>\n      <td>0.0</td>\n      <td>0.0</td>\n      <td>892</td>\n    </tr>\n    <tr>\n      <th>1</th>\n      <td>0.0</td>\n      <td>-1.075171</td>\n      <td>3.0</td>\n      <td>1.0</td>\n      <td>0.0</td>\n      <td>893</td>\n    </tr>\n    <tr>\n      <th>2</th>\n      <td>1.0</td>\n      <td>-0.725919</td>\n      <td>2.0</td>\n      <td>0.0</td>\n      <td>0.0</td>\n      <td>894</td>\n    </tr>\n    <tr>\n      <th>3</th>\n      <td>1.0</td>\n      <td>-0.846125</td>\n      <td>3.0</td>\n      <td>0.0</td>\n      <td>0.0</td>\n      <td>895</td>\n    </tr>\n    <tr>\n      <th>4</th>\n      <td>0.0</td>\n      <td>-0.470373</td>\n      <td>3.0</td>\n      <td>1.0</td>\n      <td>1.0</td>\n      <td>896</td>\n    </tr>\n    <tr>\n      <th>5</th>\n      <td>1.0</td>\n      <td>-0.778500</td>\n      <td>3.0</td>\n      <td>0.0</td>\n      <td>0.0</td>\n      <td>897</td>\n    </tr>\n    <tr>\n      <th>6</th>\n      <td>0.0</td>\n      <td>-0.982655</td>\n      <td>3.0</td>\n      <td>0.0</td>\n      <td>0.0</td>\n      <td>898</td>\n    </tr>\n    <tr>\n      <th>7</th>\n      <td>1.0</td>\n      <td>0.452630</td>\n      <td>2.0</td>\n      <td>1.0</td>\n      <td>1.0</td>\n      <td>899</td>\n    </tr>\n    <tr>\n      <th>8</th>\n      <td>0.0</td>\n      <td>-1.040541</td>\n      <td>3.0</td>\n      <td>0.0</td>\n      <td>0.0</td>\n      <td>900</td>\n    </tr>\n    <tr>\n      <th>9</th>\n      <td>1.0</td>\n      <td>0.255917</td>\n      <td>3.0</td>\n      <td>2.0</td>\n      <td>0.0</td>\n      <td>901</td>\n    </tr>\n  </tbody>\n</table>\n</div>"
     },
     "execution_count": 24,
     "metadata": {},
     "output_type": "execute_result"
    }
   ],
   "source": [
    "# preprocess the data\n",
    "X_final = preprocess_feature(X_final)\n",
    "\n",
    "# apply the pipeline\n",
    "X_final = apply_pipeline(X_final, preprocessing_pipeline)\n",
    "\n",
    "X_final[\"PassengerId\"] = x_final_passenger_id\n",
    "\n",
    "X_final.head(10)"
   ],
   "metadata": {
    "collapsed": false,
    "ExecuteTime": {
     "end_time": "2023-08-27T09:02:54.691842900Z",
     "start_time": "2023-08-27T09:02:54.668755500Z"
    }
   }
  },
  {
   "cell_type": "code",
   "execution_count": 25,
   "outputs": [],
   "source": [
    "filepath = os.path.join(\"data\", \"test_preprocessed.csv\")\n",
    "X_final.to_csv(filepath, index=False)"
   ],
   "metadata": {
    "collapsed": false,
    "ExecuteTime": {
     "end_time": "2023-08-27T09:02:56.404492300Z",
     "start_time": "2023-08-27T09:02:56.385612200Z"
    }
   }
  },
  {
   "cell_type": "code",
   "execution_count": null,
   "outputs": [],
   "source": [],
   "metadata": {
    "collapsed": false
   }
  }
 ],
 "metadata": {
  "kernelspec": {
   "display_name": "Python 3",
   "language": "python",
   "name": "python3"
  },
  "language_info": {
   "codemirror_mode": {
    "name": "ipython",
    "version": 2
   },
   "file_extension": ".py",
   "mimetype": "text/x-python",
   "name": "python",
   "nbconvert_exporter": "python",
   "pygments_lexer": "ipython2",
   "version": "2.7.6"
  }
 },
 "nbformat": 4,
 "nbformat_minor": 0
}
